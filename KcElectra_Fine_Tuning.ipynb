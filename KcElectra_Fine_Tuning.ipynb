{
  "nbformat": 4,
  "nbformat_minor": 0,
  "metadata": {
    "colab": {
      "provenance": [],
      "authorship_tag": "ABX9TyNPRLJ85cB5fGSaUC3/oSsD",
      "include_colab_link": true
    },
    "kernelspec": {
      "name": "python3",
      "display_name": "Python 3"
    },
    "language_info": {
      "name": "python"
    }
  },
  "cells": [
    {
      "cell_type": "markdown",
      "metadata": {
        "id": "view-in-github",
        "colab_type": "text"
      },
      "source": [
        "<a href=\"https://colab.research.google.com/github/Hing-9/popup_store/blob/main/KcElectra_Fine_Tuning.ipynb\" target=\"_parent\"><img src=\"https://colab.research.google.com/assets/colab-badge.svg\" alt=\"Open In Colab\"/></a>"
      ]
    },
    {
      "cell_type": "code",
      "execution_count": null,
      "metadata": {
        "colab": {
          "base_uri": "https://localhost:8080/"
        },
        "id": "-AJqqASjOA45",
        "outputId": "76b75072-db8d-488c-c0af-dc3e81b181f8"
      },
      "outputs": [
        {
          "output_type": "stream",
          "name": "stdout",
          "text": [
            "Looking in indexes: https://pypi.org/simple, https://us-python.pkg.dev/colab-wheels/public/simple/\n",
            "Requirement already satisfied: transformers in /usr/local/lib/python3.9/dist-packages (4.28.1)\n",
            "Requirement already satisfied: regex!=2019.12.17 in /usr/local/lib/python3.9/dist-packages (from transformers) (2022.10.31)\n",
            "Requirement already satisfied: packaging>=20.0 in /usr/local/lib/python3.9/dist-packages (from transformers) (23.1)\n",
            "Requirement already satisfied: requests in /usr/local/lib/python3.9/dist-packages (from transformers) (2.27.1)\n",
            "Requirement already satisfied: tqdm>=4.27 in /usr/local/lib/python3.9/dist-packages (from transformers) (4.65.0)\n",
            "Requirement already satisfied: numpy>=1.17 in /usr/local/lib/python3.9/dist-packages (from transformers) (1.22.4)\n",
            "Requirement already satisfied: filelock in /usr/local/lib/python3.9/dist-packages (from transformers) (3.11.0)\n",
            "Requirement already satisfied: pyyaml>=5.1 in /usr/local/lib/python3.9/dist-packages (from transformers) (6.0)\n",
            "Requirement already satisfied: tokenizers!=0.11.3,<0.14,>=0.11.1 in /usr/local/lib/python3.9/dist-packages (from transformers) (0.13.3)\n",
            "Requirement already satisfied: huggingface-hub<1.0,>=0.11.0 in /usr/local/lib/python3.9/dist-packages (from transformers) (0.13.4)\n",
            "Requirement already satisfied: typing-extensions>=3.7.4.3 in /usr/local/lib/python3.9/dist-packages (from huggingface-hub<1.0,>=0.11.0->transformers) (4.5.0)\n",
            "Requirement already satisfied: charset-normalizer~=2.0.0 in /usr/local/lib/python3.9/dist-packages (from requests->transformers) (2.0.12)\n",
            "Requirement already satisfied: certifi>=2017.4.17 in /usr/local/lib/python3.9/dist-packages (from requests->transformers) (2022.12.7)\n",
            "Requirement already satisfied: idna<4,>=2.5 in /usr/local/lib/python3.9/dist-packages (from requests->transformers) (3.4)\n",
            "Requirement already satisfied: urllib3<1.27,>=1.21.1 in /usr/local/lib/python3.9/dist-packages (from requests->transformers) (1.26.15)\n"
          ]
        }
      ],
      "source": [
        "!pip install transformers"
      ]
    },
    {
      "cell_type": "code",
      "source": [
        "from google.colab import drive\n",
        "drive.mount('/content/drive')\n",
        "\n",
        "%cd /content/drive/MyDrive/Graduation-Thesis/NER"
      ],
      "metadata": {
        "colab": {
          "base_uri": "https://localhost:8080/"
        },
        "id": "64FQ8A_rPv0R",
        "outputId": "898a0c81-82f6-4021-a33a-f057b0af8207"
      },
      "execution_count": null,
      "outputs": [
        {
          "output_type": "stream",
          "name": "stdout",
          "text": [
            "Drive already mounted at /content/drive; to attempt to forcibly remount, call drive.mount(\"/content/drive\", force_remount=True).\n",
            "/content/drive/MyDrive/Graduation-Thesis/NER\n"
          ]
        }
      ]
    },
    {
      "cell_type": "code",
      "source": [
        "import json\n",
        "import pandas as pd\n",
        "from transformers import AutoTokenizer, AutoModel"
      ],
      "metadata": {
        "id": "hlH1y9BTP0Jj"
      },
      "execution_count": null,
      "outputs": []
    },
    {
      "cell_type": "code",
      "source": [
        "data[0]"
      ],
      "metadata": {
        "colab": {
          "base_uri": "https://localhost:8080/"
        },
        "id": "asESrdxArytU",
        "outputId": "80126828-f70d-4eed-fa5d-a98b577c1175"
      },
      "execution_count": null,
      "outputs": [
        {
          "output_type": "execute_result",
          "data": {
            "text/plain": [
              "{'sn': 'ECOAR1R00432',\n",
              " 'data_set': '일상생활및구어체',\n",
              " 'domain': '해외고객과의채팅',\n",
              " 'subdomain': '숙박,음식점',\n",
              " 'en_original': 'Wow, that is a really generous offer, AAA!',\n",
              " 'en': 'Wow, that is a really generous offer, AAA!',\n",
              " 'mt': '와, 정말 후한 제안입니다, AAA!',\n",
              " 'ko': '와, 정말 끌리는 제안이네요, AAA!',\n",
              " 'source_language': 'en',\n",
              " 'target_language': 'ko',\n",
              " 'word_count_ko': 5.0,\n",
              " 'word_count_en': 8.0,\n",
              " 'word_ratio': 0.625,\n",
              " 'file_name': '해외고객과의채팅_숙박,음식점.xlsx',\n",
              " 'source': '크라우드 소싱',\n",
              " 'license': 'open',\n",
              " 'style': '구어체',\n",
              " 'included_unknown_words': False,\n",
              " 'ner': {'text': '와, 정말 끌리는 제안이네요, <PERSON>AAA</PERSON>!',\n",
              "  'tags': [{'tag': 'PERSON', 'value': 'AAA', 'position': '[17, 20]'}]}}"
            ]
          },
          "metadata": {},
          "execution_count": 207
        }
      ]
    },
    {
      "cell_type": "code",
      "source": [
        "def file_to_data(path) :\n",
        "    with open(path, 'r', encoding='UTF-8') as f :\n",
        "        return json.load(f)['data']\n",
        "\n",
        "def data_only_org(data) :\n",
        "    ner_sentences = []\n",
        "    for sentence in data :\n",
        "        if sentence['ner'] : # NER 있는 데이터 발견\n",
        "            tags = sentence['ner']['tags']\n",
        "            org_flag = False\n",
        "            for tag in tags :\n",
        "                if tag['tag'] == 'ORG' :\n",
        "                    org_flag = True\n",
        "                    break\n",
        "            if org_flag :\n",
        "                ner_sentences.append(sentence)\n",
        "    return ner_sentences"
      ],
      "metadata": {
        "id": "c0YKRqoAYvD_"
      },
      "execution_count": null,
      "outputs": []
    },
    {
      "cell_type": "code",
      "source": [
        "data_영한 = file_to_data('./일상생활및구어체_영한_train_set.json')\n",
        "data_한영 = file_to_data('./일상생활및구어체_한영_train_set.json')"
      ],
      "metadata": {
        "id": "h9qO9GJgQU7f"
      },
      "execution_count": null,
      "outputs": []
    },
    {
      "cell_type": "code",
      "source": [
        "# 데이터 결합\n",
        "data = data_영한\n",
        "data.extend(data_한영)\n",
        "\n",
        "assert len(data) != len(data_영한)+len(data_한영)"
      ],
      "metadata": {
        "id": "yfMijh6bbJyF"
      },
      "execution_count": null,
      "outputs": []
    },
    {
      "cell_type": "code",
      "source": [
        "print(f'전체 데이터 개수 : '+str(len(data)))\n",
        "data = data_only_org(data)\n",
        "print(f'NER에 ORG가 포함된 데이터 개수 : '+str(len(data)))"
      ],
      "metadata": {
        "colab": {
          "base_uri": "https://localhost:8080/"
        },
        "id": "44r1Hik5bImk",
        "outputId": "dbd95d3a-fed7-48e3-ec94-4fbdd80e69cf"
      },
      "execution_count": null,
      "outputs": [
        {
          "output_type": "stream",
          "name": "stdout",
          "text": [
            "전체 데이터 개수 : 6000307\n",
            "NER 데이터 개수 : 42853\n"
          ]
        }
      ]
    },
    {
      "cell_type": "code",
      "source": [
        "def kind_of_ner_tags(data) :\n",
        "    result = []\n",
        "    for sentence in data :\n",
        "        tags = sentence['ner']['tags']\n",
        "        for tag in tags :\n",
        "            result.append(tag['tag'])\n",
        "    \n",
        "    result = list(set(result))\n",
        "    return result\n",
        "\n",
        "def value_for_tag(find_tag, data) :\n",
        "    result = []\n",
        "    MAX_CNT = 10\n",
        "    cnt = 0\n",
        "\n",
        "    for sentence in data :\n",
        "        tags = sentence['ner']['tags']\n",
        "        for tag in tags :\n",
        "            if tag['tag'] == find_tag :\n",
        "                result.append(tag['value'])\n",
        "                cnt += 1\n",
        "        \n",
        "        if cnt >= MAX_CNT :\n",
        "                break;\n",
        "    \n",
        "    return result"
      ],
      "metadata": {
        "id": "HD_7et8_a-ve"
      },
      "execution_count": null,
      "outputs": []
    },
    {
      "cell_type": "code",
      "source": [
        "tags = kind_of_ner_tags(data)\n",
        "print(f'모든 데이터에서 검출된 NER TAGS : {tags}')\n",
        "print()\n",
        "\n",
        "for tag in tags :\n",
        "    print(f'==== TAG : {tag}====')\n",
        "    print(value_for_tag(tag, data))"
      ],
      "metadata": {
        "colab": {
          "base_uri": "https://localhost:8080/"
        },
        "id": "9-3P0xtFcIbE",
        "outputId": "066e4d74-2191-4ad3-a057-bd303a585eaf"
      },
      "execution_count": null,
      "outputs": [
        {
          "output_type": "stream",
          "name": "stdout",
          "text": [
            "모든 데이터에서 검출된 NER TAGS : ['ORG', 'WORK_OF_ART', 'PRODUCT', 'PERSON']\n",
            "\n",
            "==== TAG : ORG====\n",
            "['BBB1의', 'BBB2는', 'BBB', 'BBB2', 'BBB1 코리아', 'BBB1', 'BBB1은', 'BBB1', 'BBB', 'BBB 여행사']\n",
            "==== TAG : WORK_OF_ART====\n",
            "['FFF2', 'FFF쇼', 'FFF', 'FFF', 'FFF1', 'FFF2의', 'FFF', 'FFF', '어벤져스', '트리플A']\n",
            "==== TAG : PRODUCT====\n",
            "['IoT', '구글 어시스턴트', 'FFF 스마트 워치', 'FFF 립밤', 'FFF', 'FFF', 'FFF', '구워 먹어', 'AAA1', 'FFF 소프트웨어']\n",
            "==== TAG : PERSON====\n",
            "['AAA', 'AAA2입니다', 'AAA1', 'AAA', 'AAA', 'AAA2라고', 'AAA1입니다', 'AAA', 'AAA', 'AA1']\n"
          ]
        }
      ]
    },
    {
      "cell_type": "code",
      "source": [
        "# 혹시나.. 팝업이 들어간 데이터를 추출해보자\n",
        "def find_popup(data) : \n",
        "    result = []\n",
        "    for sentence in data :\n",
        "        if '팝업' in sentence['ko'] :\n",
        "            result.append(sentence['ko'])\n",
        "        # elif '스토어' in sentence['ko'] :\n",
        "        #     result.append(sentence['ko'])\n",
        "    return result\n",
        "\n",
        "find_popup(data)"
      ],
      "metadata": {
        "colab": {
          "base_uri": "https://localhost:8080/"
        },
        "id": "3MvKOhf5htJd",
        "outputId": "1febf324-6aae-4527-9e00-7ac52f6dc5bc"
      },
      "execution_count": null,
      "outputs": [
        {
          "output_type": "execute_result",
          "data": {
            "text/plain": [
              "['만석장롯데월드몰점 팝업에 갈래?',\n",
              " '행복한머릿꾼에서 진행하는 이번 팝업 이벤트는 정말 대박이에요.',\n",
              " '온라인 소매업체인 땡잡았네는 고객의 쇼핑 행동과 인구 통계를 이해하기 위해 팝업 스토어를 열었어요.',\n",
              " '미팅 플래너 및 기업 린시스템는 제품 및 브랜드 출시를 위한 팝업을 개최해요.',\n",
              " '글쎄, 대왕부동산은 팝업 수영장 파티를 조직하고 있어요.',\n",
              " '복지상담카페7142 스토어의 팝업 이벤트를 주최해 달라는 요청을 받았어요.',\n",
              " '난바우동에서 크리스마스에 팝업 행사를 개최한대.',\n",
              " '팝업 행사는 미르트레이딩 출시한 새로운 다과에 대한 프로모션 역할을 했습니다.',\n",
              " '새로운 고불초쌈밥 팝업 스토어 보셨어요?',\n",
              " '또보겠지상암DMC히어로점 팝업 이벤트에도 참여할 거야?',\n",
              " '또한 H키친김포금쌀떡갈비팝업행사치에이치헤어제품 인증마크를 받았습니다.',\n",
              " '또한 H키친김포금쌀떡갈비팝업행사치에이치헤어제품 인증마크를 받았습니다.',\n",
              " '또한 H키친김포금쌀떡갈비팝업행사치에이치헤어제품 인증마크를 받았습니다.',\n",
              " '또한 H키친김포금쌀떡갈비팝업행사치에이치헤어제품 인증마크를 받았습니다.']"
            ]
          },
          "metadata": {},
          "execution_count": 226
        }
      ]
    },
    {
      "cell_type": "code",
      "source": [
        "# ORG 태그에 브랜드명을 넣어 학습시키는게 정당해보임.\n",
        "# 브랜드명은 소상공인 데이터\n",
        "brand_data = pd.read_csv('./소상공인시장진흥공단_상가(상권)정보_서울_202212.csv', encoding='UTF-8')"
      ],
      "metadata": {
        "id": "XBlHlNC8eLYw"
      },
      "execution_count": null,
      "outputs": []
    },
    {
      "cell_type": "code",
      "source": [
        "brand_names = brand_data['상호명'].values"
      ],
      "metadata": {
        "id": "U1eN17DSjUP3"
      },
      "execution_count": null,
      "outputs": []
    },
    {
      "cell_type": "code",
      "source": [
        "# 랜덤하게 브랜드명을 입력\n",
        "import random\n",
        "\n",
        "rnd_idx = random.randrange(0, len(brand_names))\n",
        "brand_names[rnd_idx]"
      ],
      "metadata": {
        "colab": {
          "base_uri": "https://localhost:8080/",
          "height": 37
        },
        "id": "bvsiYxLskZCv",
        "outputId": "72c84a66-b424-4cf0-f3e8-eb5e10f6b35a"
      },
      "execution_count": null,
      "outputs": [
        {
          "output_type": "execute_result",
          "data": {
            "text/plain": [
              "'장미화원'"
            ],
            "application/vnd.google.colaboratory.intrinsic+json": {
              "type": "string"
            }
          },
          "metadata": {},
          "execution_count": 229
        }
      ]
    },
    {
      "cell_type": "code",
      "source": [
        "def random_brand_transfer(raw_data) :\n",
        "    data = raw_data.copy()\n",
        "    flag=False\n",
        "    for sentence in data :\n",
        "        if not sentence['ner'] :\n",
        "            continue\n",
        "        \n",
        "        tags = sentence['ner']['tags']\n",
        "        for tag in tags :\n",
        "            if tag['tag'] == 'ORG' :\n",
        "\n",
        "                rnd_idx = random.randrange(0, len(brand_names))\n",
        "                chg_org = brand_names[rnd_idx]\n",
        "\n",
        "                positions = tag['position'][1:-1].split(',')\n",
        "                start_index = int(positions[0])\n",
        "                end_index = int(positions[1])\n",
        "                \n",
        "                target = sentence['ko']\n",
        "                target = target[:start_index] + chg_org + target[end_index:]\n",
        "                sentence['ko'] = target\n",
        "\n",
        "                # 일단 전체문장만 변경하였으나, 추후 tag의 position 등의 전처리도 필요할듯!\n",
        "\n",
        "    return data\n",
        "\n",
        "chg_data = random_brand_transfer(data)"
      ],
      "metadata": {
        "id": "bz2JanhNkyyc"
      },
      "execution_count": null,
      "outputs": []
    },
    {
      "cell_type": "code",
      "source": [
        "chg_data[3]"
      ],
      "metadata": {
        "colab": {
          "base_uri": "https://localhost:8080/"
        },
        "id": "2hLAvLWBmYpQ",
        "outputId": "f3b2e411-6e2e-4e9d-a6e3-81c9ab7d6f17"
      },
      "execution_count": null,
      "outputs": [
        {
          "output_type": "execute_result",
          "data": {
            "text/plain": [
              "{'sn': 'ECOAR3T00922',\n",
              " 'data_set': '일상생활및구어체',\n",
              " 'domain': '해외고객과의채팅',\n",
              " 'subdomain': '숙박,음식점',\n",
              " 'en_original': 'BBB2 is a Korean fried chicken restaurant or locally called chimaek restaurant.',\n",
              " 'en': 'BBB2 is a Korean fried chicken restaurant or locally called chimaek restaurant.',\n",
              " 'mt': 'BBB2는 한국식 프라이드 치킨 레스토랑 또는 현지에서 치맥 레스토랑이라고 합니다.',\n",
              " 'ko': '치맥라이프 한국의 프라이드 치킨 전문점 또는 치맥 전문점입니다.',\n",
              " 'source_language': 'en',\n",
              " 'target_language': 'ko',\n",
              " 'word_count_ko': 8.0,\n",
              " 'word_count_en': 12.0,\n",
              " 'word_ratio': 0.667,\n",
              " 'file_name': '해외고객과의채팅_숙박,음식점.xlsx',\n",
              " 'source': '크라우드 소싱',\n",
              " 'license': 'open',\n",
              " 'style': '구어체',\n",
              " 'included_unknown_words': False,\n",
              " 'ner': {'text': '<ORG>BBB2는</ORG> 한국의 프라이드 치킨 전문점 또는 치맥 전문점입니다.',\n",
              "  'tags': [{'tag': 'ORG', 'value': 'BBB2는', 'position': '[0, 5]'}]}}"
            ]
          },
          "metadata": {},
          "execution_count": 206
        }
      ]
    },
    {
      "cell_type": "code",
      "source": [],
      "metadata": {
        "id": "beZi5OyUrRfg"
      },
      "execution_count": null,
      "outputs": []
    }
  ]
}