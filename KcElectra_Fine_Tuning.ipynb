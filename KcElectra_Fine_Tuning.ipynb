{
  "nbformat": 4,
  "nbformat_minor": 0,
  "metadata": {
    "colab": {
      "provenance": [],
      "authorship_tag": "ABX9TyO31biqpUA2a/GKOl6rXKt7",
      "include_colab_link": true
    },
    "kernelspec": {
      "name": "python3",
      "display_name": "Python 3"
    },
    "language_info": {
      "name": "python"
    },
    "accelerator": "GPU",
    "gpuClass": "standard",
    "widgets": {
      "application/vnd.jupyter.widget-state+json": {
        "eee82485f5364fe1b4d5115ca1a497d9": {
          "model_module": "@jupyter-widgets/controls",
          "model_name": "HBoxModel",
          "model_module_version": "1.5.0",
          "state": {
            "_dom_classes": [],
            "_model_module": "@jupyter-widgets/controls",
            "_model_module_version": "1.5.0",
            "_model_name": "HBoxModel",
            "_view_count": null,
            "_view_module": "@jupyter-widgets/controls",
            "_view_module_version": "1.5.0",
            "_view_name": "HBoxView",
            "box_style": "",
            "children": [
              "IPY_MODEL_8c27591f02e641ff98bb872bd2b2039b",
              "IPY_MODEL_3749c11b32c044fea6c649b1805bbdbf",
              "IPY_MODEL_ff61924eaf8a409db8a9a5f40629175d"
            ],
            "layout": "IPY_MODEL_0c2cca34323048f79cbdade0512048c7"
          }
        },
        "8c27591f02e641ff98bb872bd2b2039b": {
          "model_module": "@jupyter-widgets/controls",
          "model_name": "HTMLModel",
          "model_module_version": "1.5.0",
          "state": {
            "_dom_classes": [],
            "_model_module": "@jupyter-widgets/controls",
            "_model_module_version": "1.5.0",
            "_model_name": "HTMLModel",
            "_view_count": null,
            "_view_module": "@jupyter-widgets/controls",
            "_view_module_version": "1.5.0",
            "_view_name": "HTMLView",
            "description": "",
            "description_tooltip": null,
            "layout": "IPY_MODEL_9f18c02ee1d64ee5b4d3a3353fc23089",
            "placeholder": "​",
            "style": "IPY_MODEL_ca8db9c4f42c461e9a11ccf8c90b11dc",
            "value": "Downloading (…)okenizer_config.json: 100%"
          }
        },
        "3749c11b32c044fea6c649b1805bbdbf": {
          "model_module": "@jupyter-widgets/controls",
          "model_name": "FloatProgressModel",
          "model_module_version": "1.5.0",
          "state": {
            "_dom_classes": [],
            "_model_module": "@jupyter-widgets/controls",
            "_model_module_version": "1.5.0",
            "_model_name": "FloatProgressModel",
            "_view_count": null,
            "_view_module": "@jupyter-widgets/controls",
            "_view_module_version": "1.5.0",
            "_view_name": "ProgressView",
            "bar_style": "success",
            "description": "",
            "description_tooltip": null,
            "layout": "IPY_MODEL_e52ef46f302645d8b96b924f782c571d",
            "max": 288,
            "min": 0,
            "orientation": "horizontal",
            "style": "IPY_MODEL_0b1b72653b854763a2ee2f633d7c79be",
            "value": 288
          }
        },
        "ff61924eaf8a409db8a9a5f40629175d": {
          "model_module": "@jupyter-widgets/controls",
          "model_name": "HTMLModel",
          "model_module_version": "1.5.0",
          "state": {
            "_dom_classes": [],
            "_model_module": "@jupyter-widgets/controls",
            "_model_module_version": "1.5.0",
            "_model_name": "HTMLModel",
            "_view_count": null,
            "_view_module": "@jupyter-widgets/controls",
            "_view_module_version": "1.5.0",
            "_view_name": "HTMLView",
            "description": "",
            "description_tooltip": null,
            "layout": "IPY_MODEL_a03e90b56b4941acb17b8d9903cf8f1f",
            "placeholder": "​",
            "style": "IPY_MODEL_2074cd24b7d94e5ca4d7f0abf201f9ac",
            "value": " 288/288 [00:00&lt;00:00, 13.3kB/s]"
          }
        },
        "0c2cca34323048f79cbdade0512048c7": {
          "model_module": "@jupyter-widgets/base",
          "model_name": "LayoutModel",
          "model_module_version": "1.2.0",
          "state": {
            "_model_module": "@jupyter-widgets/base",
            "_model_module_version": "1.2.0",
            "_model_name": "LayoutModel",
            "_view_count": null,
            "_view_module": "@jupyter-widgets/base",
            "_view_module_version": "1.2.0",
            "_view_name": "LayoutView",
            "align_content": null,
            "align_items": null,
            "align_self": null,
            "border": null,
            "bottom": null,
            "display": null,
            "flex": null,
            "flex_flow": null,
            "grid_area": null,
            "grid_auto_columns": null,
            "grid_auto_flow": null,
            "grid_auto_rows": null,
            "grid_column": null,
            "grid_gap": null,
            "grid_row": null,
            "grid_template_areas": null,
            "grid_template_columns": null,
            "grid_template_rows": null,
            "height": null,
            "justify_content": null,
            "justify_items": null,
            "left": null,
            "margin": null,
            "max_height": null,
            "max_width": null,
            "min_height": null,
            "min_width": null,
            "object_fit": null,
            "object_position": null,
            "order": null,
            "overflow": null,
            "overflow_x": null,
            "overflow_y": null,
            "padding": null,
            "right": null,
            "top": null,
            "visibility": null,
            "width": null
          }
        },
        "9f18c02ee1d64ee5b4d3a3353fc23089": {
          "model_module": "@jupyter-widgets/base",
          "model_name": "LayoutModel",
          "model_module_version": "1.2.0",
          "state": {
            "_model_module": "@jupyter-widgets/base",
            "_model_module_version": "1.2.0",
            "_model_name": "LayoutModel",
            "_view_count": null,
            "_view_module": "@jupyter-widgets/base",
            "_view_module_version": "1.2.0",
            "_view_name": "LayoutView",
            "align_content": null,
            "align_items": null,
            "align_self": null,
            "border": null,
            "bottom": null,
            "display": null,
            "flex": null,
            "flex_flow": null,
            "grid_area": null,
            "grid_auto_columns": null,
            "grid_auto_flow": null,
            "grid_auto_rows": null,
            "grid_column": null,
            "grid_gap": null,
            "grid_row": null,
            "grid_template_areas": null,
            "grid_template_columns": null,
            "grid_template_rows": null,
            "height": null,
            "justify_content": null,
            "justify_items": null,
            "left": null,
            "margin": null,
            "max_height": null,
            "max_width": null,
            "min_height": null,
            "min_width": null,
            "object_fit": null,
            "object_position": null,
            "order": null,
            "overflow": null,
            "overflow_x": null,
            "overflow_y": null,
            "padding": null,
            "right": null,
            "top": null,
            "visibility": null,
            "width": null
          }
        },
        "ca8db9c4f42c461e9a11ccf8c90b11dc": {
          "model_module": "@jupyter-widgets/controls",
          "model_name": "DescriptionStyleModel",
          "model_module_version": "1.5.0",
          "state": {
            "_model_module": "@jupyter-widgets/controls",
            "_model_module_version": "1.5.0",
            "_model_name": "DescriptionStyleModel",
            "_view_count": null,
            "_view_module": "@jupyter-widgets/base",
            "_view_module_version": "1.2.0",
            "_view_name": "StyleView",
            "description_width": ""
          }
        },
        "e52ef46f302645d8b96b924f782c571d": {
          "model_module": "@jupyter-widgets/base",
          "model_name": "LayoutModel",
          "model_module_version": "1.2.0",
          "state": {
            "_model_module": "@jupyter-widgets/base",
            "_model_module_version": "1.2.0",
            "_model_name": "LayoutModel",
            "_view_count": null,
            "_view_module": "@jupyter-widgets/base",
            "_view_module_version": "1.2.0",
            "_view_name": "LayoutView",
            "align_content": null,
            "align_items": null,
            "align_self": null,
            "border": null,
            "bottom": null,
            "display": null,
            "flex": null,
            "flex_flow": null,
            "grid_area": null,
            "grid_auto_columns": null,
            "grid_auto_flow": null,
            "grid_auto_rows": null,
            "grid_column": null,
            "grid_gap": null,
            "grid_row": null,
            "grid_template_areas": null,
            "grid_template_columns": null,
            "grid_template_rows": null,
            "height": null,
            "justify_content": null,
            "justify_items": null,
            "left": null,
            "margin": null,
            "max_height": null,
            "max_width": null,
            "min_height": null,
            "min_width": null,
            "object_fit": null,
            "object_position": null,
            "order": null,
            "overflow": null,
            "overflow_x": null,
            "overflow_y": null,
            "padding": null,
            "right": null,
            "top": null,
            "visibility": null,
            "width": null
          }
        },
        "0b1b72653b854763a2ee2f633d7c79be": {
          "model_module": "@jupyter-widgets/controls",
          "model_name": "ProgressStyleModel",
          "model_module_version": "1.5.0",
          "state": {
            "_model_module": "@jupyter-widgets/controls",
            "_model_module_version": "1.5.0",
            "_model_name": "ProgressStyleModel",
            "_view_count": null,
            "_view_module": "@jupyter-widgets/base",
            "_view_module_version": "1.2.0",
            "_view_name": "StyleView",
            "bar_color": null,
            "description_width": ""
          }
        },
        "a03e90b56b4941acb17b8d9903cf8f1f": {
          "model_module": "@jupyter-widgets/base",
          "model_name": "LayoutModel",
          "model_module_version": "1.2.0",
          "state": {
            "_model_module": "@jupyter-widgets/base",
            "_model_module_version": "1.2.0",
            "_model_name": "LayoutModel",
            "_view_count": null,
            "_view_module": "@jupyter-widgets/base",
            "_view_module_version": "1.2.0",
            "_view_name": "LayoutView",
            "align_content": null,
            "align_items": null,
            "align_self": null,
            "border": null,
            "bottom": null,
            "display": null,
            "flex": null,
            "flex_flow": null,
            "grid_area": null,
            "grid_auto_columns": null,
            "grid_auto_flow": null,
            "grid_auto_rows": null,
            "grid_column": null,
            "grid_gap": null,
            "grid_row": null,
            "grid_template_areas": null,
            "grid_template_columns": null,
            "grid_template_rows": null,
            "height": null,
            "justify_content": null,
            "justify_items": null,
            "left": null,
            "margin": null,
            "max_height": null,
            "max_width": null,
            "min_height": null,
            "min_width": null,
            "object_fit": null,
            "object_position": null,
            "order": null,
            "overflow": null,
            "overflow_x": null,
            "overflow_y": null,
            "padding": null,
            "right": null,
            "top": null,
            "visibility": null,
            "width": null
          }
        },
        "2074cd24b7d94e5ca4d7f0abf201f9ac": {
          "model_module": "@jupyter-widgets/controls",
          "model_name": "DescriptionStyleModel",
          "model_module_version": "1.5.0",
          "state": {
            "_model_module": "@jupyter-widgets/controls",
            "_model_module_version": "1.5.0",
            "_model_name": "DescriptionStyleModel",
            "_view_count": null,
            "_view_module": "@jupyter-widgets/base",
            "_view_module_version": "1.2.0",
            "_view_name": "StyleView",
            "description_width": ""
          }
        },
        "b7d9b68f9efd41c9b85266a26b8e36b7": {
          "model_module": "@jupyter-widgets/controls",
          "model_name": "HBoxModel",
          "model_module_version": "1.5.0",
          "state": {
            "_dom_classes": [],
            "_model_module": "@jupyter-widgets/controls",
            "_model_module_version": "1.5.0",
            "_model_name": "HBoxModel",
            "_view_count": null,
            "_view_module": "@jupyter-widgets/controls",
            "_view_module_version": "1.5.0",
            "_view_name": "HBoxView",
            "box_style": "",
            "children": [
              "IPY_MODEL_1376e9d9b0ca4b0c952335b45d1caa45",
              "IPY_MODEL_3ddcbc8b06304b7aa9591d1cb3c1694c",
              "IPY_MODEL_02bf59481d6f43fe88a4b0c8625fcc08"
            ],
            "layout": "IPY_MODEL_8e4ff23c5aa343a0ab89da01963c1a2e"
          }
        },
        "1376e9d9b0ca4b0c952335b45d1caa45": {
          "model_module": "@jupyter-widgets/controls",
          "model_name": "HTMLModel",
          "model_module_version": "1.5.0",
          "state": {
            "_dom_classes": [],
            "_model_module": "@jupyter-widgets/controls",
            "_model_module_version": "1.5.0",
            "_model_name": "HTMLModel",
            "_view_count": null,
            "_view_module": "@jupyter-widgets/controls",
            "_view_module_version": "1.5.0",
            "_view_name": "HTMLView",
            "description": "",
            "description_tooltip": null,
            "layout": "IPY_MODEL_dfce1e9622a6472d9ec906b9b6b906c0",
            "placeholder": "​",
            "style": "IPY_MODEL_70da600b52614e8d81512217bd30fc89",
            "value": "Downloading (…)lve/main/config.json: 100%"
          }
        },
        "3ddcbc8b06304b7aa9591d1cb3c1694c": {
          "model_module": "@jupyter-widgets/controls",
          "model_name": "FloatProgressModel",
          "model_module_version": "1.5.0",
          "state": {
            "_dom_classes": [],
            "_model_module": "@jupyter-widgets/controls",
            "_model_module_version": "1.5.0",
            "_model_name": "FloatProgressModel",
            "_view_count": null,
            "_view_module": "@jupyter-widgets/controls",
            "_view_module_version": "1.5.0",
            "_view_name": "ProgressView",
            "bar_style": "success",
            "description": "",
            "description_tooltip": null,
            "layout": "IPY_MODEL_0ba70497274e471abd60248ff62d52fc",
            "max": 504,
            "min": 0,
            "orientation": "horizontal",
            "style": "IPY_MODEL_109a6290253b471bb5a502777382e8e9",
            "value": 504
          }
        },
        "02bf59481d6f43fe88a4b0c8625fcc08": {
          "model_module": "@jupyter-widgets/controls",
          "model_name": "HTMLModel",
          "model_module_version": "1.5.0",
          "state": {
            "_dom_classes": [],
            "_model_module": "@jupyter-widgets/controls",
            "_model_module_version": "1.5.0",
            "_model_name": "HTMLModel",
            "_view_count": null,
            "_view_module": "@jupyter-widgets/controls",
            "_view_module_version": "1.5.0",
            "_view_name": "HTMLView",
            "description": "",
            "description_tooltip": null,
            "layout": "IPY_MODEL_59f947408d3d4a0e944715fa8512aa6a",
            "placeholder": "​",
            "style": "IPY_MODEL_74c6105e764348a7a42379c4ce45e182",
            "value": " 504/504 [00:00&lt;00:00, 30.5kB/s]"
          }
        },
        "8e4ff23c5aa343a0ab89da01963c1a2e": {
          "model_module": "@jupyter-widgets/base",
          "model_name": "LayoutModel",
          "model_module_version": "1.2.0",
          "state": {
            "_model_module": "@jupyter-widgets/base",
            "_model_module_version": "1.2.0",
            "_model_name": "LayoutModel",
            "_view_count": null,
            "_view_module": "@jupyter-widgets/base",
            "_view_module_version": "1.2.0",
            "_view_name": "LayoutView",
            "align_content": null,
            "align_items": null,
            "align_self": null,
            "border": null,
            "bottom": null,
            "display": null,
            "flex": null,
            "flex_flow": null,
            "grid_area": null,
            "grid_auto_columns": null,
            "grid_auto_flow": null,
            "grid_auto_rows": null,
            "grid_column": null,
            "grid_gap": null,
            "grid_row": null,
            "grid_template_areas": null,
            "grid_template_columns": null,
            "grid_template_rows": null,
            "height": null,
            "justify_content": null,
            "justify_items": null,
            "left": null,
            "margin": null,
            "max_height": null,
            "max_width": null,
            "min_height": null,
            "min_width": null,
            "object_fit": null,
            "object_position": null,
            "order": null,
            "overflow": null,
            "overflow_x": null,
            "overflow_y": null,
            "padding": null,
            "right": null,
            "top": null,
            "visibility": null,
            "width": null
          }
        },
        "dfce1e9622a6472d9ec906b9b6b906c0": {
          "model_module": "@jupyter-widgets/base",
          "model_name": "LayoutModel",
          "model_module_version": "1.2.0",
          "state": {
            "_model_module": "@jupyter-widgets/base",
            "_model_module_version": "1.2.0",
            "_model_name": "LayoutModel",
            "_view_count": null,
            "_view_module": "@jupyter-widgets/base",
            "_view_module_version": "1.2.0",
            "_view_name": "LayoutView",
            "align_content": null,
            "align_items": null,
            "align_self": null,
            "border": null,
            "bottom": null,
            "display": null,
            "flex": null,
            "flex_flow": null,
            "grid_area": null,
            "grid_auto_columns": null,
            "grid_auto_flow": null,
            "grid_auto_rows": null,
            "grid_column": null,
            "grid_gap": null,
            "grid_row": null,
            "grid_template_areas": null,
            "grid_template_columns": null,
            "grid_template_rows": null,
            "height": null,
            "justify_content": null,
            "justify_items": null,
            "left": null,
            "margin": null,
            "max_height": null,
            "max_width": null,
            "min_height": null,
            "min_width": null,
            "object_fit": null,
            "object_position": null,
            "order": null,
            "overflow": null,
            "overflow_x": null,
            "overflow_y": null,
            "padding": null,
            "right": null,
            "top": null,
            "visibility": null,
            "width": null
          }
        },
        "70da600b52614e8d81512217bd30fc89": {
          "model_module": "@jupyter-widgets/controls",
          "model_name": "DescriptionStyleModel",
          "model_module_version": "1.5.0",
          "state": {
            "_model_module": "@jupyter-widgets/controls",
            "_model_module_version": "1.5.0",
            "_model_name": "DescriptionStyleModel",
            "_view_count": null,
            "_view_module": "@jupyter-widgets/base",
            "_view_module_version": "1.2.0",
            "_view_name": "StyleView",
            "description_width": ""
          }
        },
        "0ba70497274e471abd60248ff62d52fc": {
          "model_module": "@jupyter-widgets/base",
          "model_name": "LayoutModel",
          "model_module_version": "1.2.0",
          "state": {
            "_model_module": "@jupyter-widgets/base",
            "_model_module_version": "1.2.0",
            "_model_name": "LayoutModel",
            "_view_count": null,
            "_view_module": "@jupyter-widgets/base",
            "_view_module_version": "1.2.0",
            "_view_name": "LayoutView",
            "align_content": null,
            "align_items": null,
            "align_self": null,
            "border": null,
            "bottom": null,
            "display": null,
            "flex": null,
            "flex_flow": null,
            "grid_area": null,
            "grid_auto_columns": null,
            "grid_auto_flow": null,
            "grid_auto_rows": null,
            "grid_column": null,
            "grid_gap": null,
            "grid_row": null,
            "grid_template_areas": null,
            "grid_template_columns": null,
            "grid_template_rows": null,
            "height": null,
            "justify_content": null,
            "justify_items": null,
            "left": null,
            "margin": null,
            "max_height": null,
            "max_width": null,
            "min_height": null,
            "min_width": null,
            "object_fit": null,
            "object_position": null,
            "order": null,
            "overflow": null,
            "overflow_x": null,
            "overflow_y": null,
            "padding": null,
            "right": null,
            "top": null,
            "visibility": null,
            "width": null
          }
        },
        "109a6290253b471bb5a502777382e8e9": {
          "model_module": "@jupyter-widgets/controls",
          "model_name": "ProgressStyleModel",
          "model_module_version": "1.5.0",
          "state": {
            "_model_module": "@jupyter-widgets/controls",
            "_model_module_version": "1.5.0",
            "_model_name": "ProgressStyleModel",
            "_view_count": null,
            "_view_module": "@jupyter-widgets/base",
            "_view_module_version": "1.2.0",
            "_view_name": "StyleView",
            "bar_color": null,
            "description_width": ""
          }
        },
        "59f947408d3d4a0e944715fa8512aa6a": {
          "model_module": "@jupyter-widgets/base",
          "model_name": "LayoutModel",
          "model_module_version": "1.2.0",
          "state": {
            "_model_module": "@jupyter-widgets/base",
            "_model_module_version": "1.2.0",
            "_model_name": "LayoutModel",
            "_view_count": null,
            "_view_module": "@jupyter-widgets/base",
            "_view_module_version": "1.2.0",
            "_view_name": "LayoutView",
            "align_content": null,
            "align_items": null,
            "align_self": null,
            "border": null,
            "bottom": null,
            "display": null,
            "flex": null,
            "flex_flow": null,
            "grid_area": null,
            "grid_auto_columns": null,
            "grid_auto_flow": null,
            "grid_auto_rows": null,
            "grid_column": null,
            "grid_gap": null,
            "grid_row": null,
            "grid_template_areas": null,
            "grid_template_columns": null,
            "grid_template_rows": null,
            "height": null,
            "justify_content": null,
            "justify_items": null,
            "left": null,
            "margin": null,
            "max_height": null,
            "max_width": null,
            "min_height": null,
            "min_width": null,
            "object_fit": null,
            "object_position": null,
            "order": null,
            "overflow": null,
            "overflow_x": null,
            "overflow_y": null,
            "padding": null,
            "right": null,
            "top": null,
            "visibility": null,
            "width": null
          }
        },
        "74c6105e764348a7a42379c4ce45e182": {
          "model_module": "@jupyter-widgets/controls",
          "model_name": "DescriptionStyleModel",
          "model_module_version": "1.5.0",
          "state": {
            "_model_module": "@jupyter-widgets/controls",
            "_model_module_version": "1.5.0",
            "_model_name": "DescriptionStyleModel",
            "_view_count": null,
            "_view_module": "@jupyter-widgets/base",
            "_view_module_version": "1.2.0",
            "_view_name": "StyleView",
            "description_width": ""
          }
        },
        "8bfd0841a78940dd825a17bc13976a6c": {
          "model_module": "@jupyter-widgets/controls",
          "model_name": "HBoxModel",
          "model_module_version": "1.5.0",
          "state": {
            "_dom_classes": [],
            "_model_module": "@jupyter-widgets/controls",
            "_model_module_version": "1.5.0",
            "_model_name": "HBoxModel",
            "_view_count": null,
            "_view_module": "@jupyter-widgets/controls",
            "_view_module_version": "1.5.0",
            "_view_name": "HBoxView",
            "box_style": "",
            "children": [
              "IPY_MODEL_874c1ca5451d45bbbf1160b8351023fc",
              "IPY_MODEL_7edb17b89bf548c98a35b826a24da265",
              "IPY_MODEL_2edc749856df40ac94ff31dfe2ae88c7"
            ],
            "layout": "IPY_MODEL_6b9c71b341ef4d38b7929d01a51ae64a"
          }
        },
        "874c1ca5451d45bbbf1160b8351023fc": {
          "model_module": "@jupyter-widgets/controls",
          "model_name": "HTMLModel",
          "model_module_version": "1.5.0",
          "state": {
            "_dom_classes": [],
            "_model_module": "@jupyter-widgets/controls",
            "_model_module_version": "1.5.0",
            "_model_name": "HTMLModel",
            "_view_count": null,
            "_view_module": "@jupyter-widgets/controls",
            "_view_module_version": "1.5.0",
            "_view_name": "HTMLView",
            "description": "",
            "description_tooltip": null,
            "layout": "IPY_MODEL_e0b46f0d66c042248af7770a79e65844",
            "placeholder": "​",
            "style": "IPY_MODEL_ce77be123be749b7b240bf3641da4025",
            "value": "Downloading (…)solve/main/vocab.txt: 100%"
          }
        },
        "7edb17b89bf548c98a35b826a24da265": {
          "model_module": "@jupyter-widgets/controls",
          "model_name": "FloatProgressModel",
          "model_module_version": "1.5.0",
          "state": {
            "_dom_classes": [],
            "_model_module": "@jupyter-widgets/controls",
            "_model_module_version": "1.5.0",
            "_model_name": "FloatProgressModel",
            "_view_count": null,
            "_view_module": "@jupyter-widgets/controls",
            "_view_module_version": "1.5.0",
            "_view_name": "ProgressView",
            "bar_style": "success",
            "description": "",
            "description_tooltip": null,
            "layout": "IPY_MODEL_4185f0ab9b89468bac3e639423083150",
            "max": 449580,
            "min": 0,
            "orientation": "horizontal",
            "style": "IPY_MODEL_1d19f99e92a54e53846a8c22ee04bb61",
            "value": 449580
          }
        },
        "2edc749856df40ac94ff31dfe2ae88c7": {
          "model_module": "@jupyter-widgets/controls",
          "model_name": "HTMLModel",
          "model_module_version": "1.5.0",
          "state": {
            "_dom_classes": [],
            "_model_module": "@jupyter-widgets/controls",
            "_model_module_version": "1.5.0",
            "_model_name": "HTMLModel",
            "_view_count": null,
            "_view_module": "@jupyter-widgets/controls",
            "_view_module_version": "1.5.0",
            "_view_name": "HTMLView",
            "description": "",
            "description_tooltip": null,
            "layout": "IPY_MODEL_560e4e7752fc4084b0184a24af520183",
            "placeholder": "​",
            "style": "IPY_MODEL_40f30c26b70140269cbc19dee5f52234",
            "value": " 450k/450k [00:00&lt;00:00, 2.00MB/s]"
          }
        },
        "6b9c71b341ef4d38b7929d01a51ae64a": {
          "model_module": "@jupyter-widgets/base",
          "model_name": "LayoutModel",
          "model_module_version": "1.2.0",
          "state": {
            "_model_module": "@jupyter-widgets/base",
            "_model_module_version": "1.2.0",
            "_model_name": "LayoutModel",
            "_view_count": null,
            "_view_module": "@jupyter-widgets/base",
            "_view_module_version": "1.2.0",
            "_view_name": "LayoutView",
            "align_content": null,
            "align_items": null,
            "align_self": null,
            "border": null,
            "bottom": null,
            "display": null,
            "flex": null,
            "flex_flow": null,
            "grid_area": null,
            "grid_auto_columns": null,
            "grid_auto_flow": null,
            "grid_auto_rows": null,
            "grid_column": null,
            "grid_gap": null,
            "grid_row": null,
            "grid_template_areas": null,
            "grid_template_columns": null,
            "grid_template_rows": null,
            "height": null,
            "justify_content": null,
            "justify_items": null,
            "left": null,
            "margin": null,
            "max_height": null,
            "max_width": null,
            "min_height": null,
            "min_width": null,
            "object_fit": null,
            "object_position": null,
            "order": null,
            "overflow": null,
            "overflow_x": null,
            "overflow_y": null,
            "padding": null,
            "right": null,
            "top": null,
            "visibility": null,
            "width": null
          }
        },
        "e0b46f0d66c042248af7770a79e65844": {
          "model_module": "@jupyter-widgets/base",
          "model_name": "LayoutModel",
          "model_module_version": "1.2.0",
          "state": {
            "_model_module": "@jupyter-widgets/base",
            "_model_module_version": "1.2.0",
            "_model_name": "LayoutModel",
            "_view_count": null,
            "_view_module": "@jupyter-widgets/base",
            "_view_module_version": "1.2.0",
            "_view_name": "LayoutView",
            "align_content": null,
            "align_items": null,
            "align_self": null,
            "border": null,
            "bottom": null,
            "display": null,
            "flex": null,
            "flex_flow": null,
            "grid_area": null,
            "grid_auto_columns": null,
            "grid_auto_flow": null,
            "grid_auto_rows": null,
            "grid_column": null,
            "grid_gap": null,
            "grid_row": null,
            "grid_template_areas": null,
            "grid_template_columns": null,
            "grid_template_rows": null,
            "height": null,
            "justify_content": null,
            "justify_items": null,
            "left": null,
            "margin": null,
            "max_height": null,
            "max_width": null,
            "min_height": null,
            "min_width": null,
            "object_fit": null,
            "object_position": null,
            "order": null,
            "overflow": null,
            "overflow_x": null,
            "overflow_y": null,
            "padding": null,
            "right": null,
            "top": null,
            "visibility": null,
            "width": null
          }
        },
        "ce77be123be749b7b240bf3641da4025": {
          "model_module": "@jupyter-widgets/controls",
          "model_name": "DescriptionStyleModel",
          "model_module_version": "1.5.0",
          "state": {
            "_model_module": "@jupyter-widgets/controls",
            "_model_module_version": "1.5.0",
            "_model_name": "DescriptionStyleModel",
            "_view_count": null,
            "_view_module": "@jupyter-widgets/base",
            "_view_module_version": "1.2.0",
            "_view_name": "StyleView",
            "description_width": ""
          }
        },
        "4185f0ab9b89468bac3e639423083150": {
          "model_module": "@jupyter-widgets/base",
          "model_name": "LayoutModel",
          "model_module_version": "1.2.0",
          "state": {
            "_model_module": "@jupyter-widgets/base",
            "_model_module_version": "1.2.0",
            "_model_name": "LayoutModel",
            "_view_count": null,
            "_view_module": "@jupyter-widgets/base",
            "_view_module_version": "1.2.0",
            "_view_name": "LayoutView",
            "align_content": null,
            "align_items": null,
            "align_self": null,
            "border": null,
            "bottom": null,
            "display": null,
            "flex": null,
            "flex_flow": null,
            "grid_area": null,
            "grid_auto_columns": null,
            "grid_auto_flow": null,
            "grid_auto_rows": null,
            "grid_column": null,
            "grid_gap": null,
            "grid_row": null,
            "grid_template_areas": null,
            "grid_template_columns": null,
            "grid_template_rows": null,
            "height": null,
            "justify_content": null,
            "justify_items": null,
            "left": null,
            "margin": null,
            "max_height": null,
            "max_width": null,
            "min_height": null,
            "min_width": null,
            "object_fit": null,
            "object_position": null,
            "order": null,
            "overflow": null,
            "overflow_x": null,
            "overflow_y": null,
            "padding": null,
            "right": null,
            "top": null,
            "visibility": null,
            "width": null
          }
        },
        "1d19f99e92a54e53846a8c22ee04bb61": {
          "model_module": "@jupyter-widgets/controls",
          "model_name": "ProgressStyleModel",
          "model_module_version": "1.5.0",
          "state": {
            "_model_module": "@jupyter-widgets/controls",
            "_model_module_version": "1.5.0",
            "_model_name": "ProgressStyleModel",
            "_view_count": null,
            "_view_module": "@jupyter-widgets/base",
            "_view_module_version": "1.2.0",
            "_view_name": "StyleView",
            "bar_color": null,
            "description_width": ""
          }
        },
        "560e4e7752fc4084b0184a24af520183": {
          "model_module": "@jupyter-widgets/base",
          "model_name": "LayoutModel",
          "model_module_version": "1.2.0",
          "state": {
            "_model_module": "@jupyter-widgets/base",
            "_model_module_version": "1.2.0",
            "_model_name": "LayoutModel",
            "_view_count": null,
            "_view_module": "@jupyter-widgets/base",
            "_view_module_version": "1.2.0",
            "_view_name": "LayoutView",
            "align_content": null,
            "align_items": null,
            "align_self": null,
            "border": null,
            "bottom": null,
            "display": null,
            "flex": null,
            "flex_flow": null,
            "grid_area": null,
            "grid_auto_columns": null,
            "grid_auto_flow": null,
            "grid_auto_rows": null,
            "grid_column": null,
            "grid_gap": null,
            "grid_row": null,
            "grid_template_areas": null,
            "grid_template_columns": null,
            "grid_template_rows": null,
            "height": null,
            "justify_content": null,
            "justify_items": null,
            "left": null,
            "margin": null,
            "max_height": null,
            "max_width": null,
            "min_height": null,
            "min_width": null,
            "object_fit": null,
            "object_position": null,
            "order": null,
            "overflow": null,
            "overflow_x": null,
            "overflow_y": null,
            "padding": null,
            "right": null,
            "top": null,
            "visibility": null,
            "width": null
          }
        },
        "40f30c26b70140269cbc19dee5f52234": {
          "model_module": "@jupyter-widgets/controls",
          "model_name": "DescriptionStyleModel",
          "model_module_version": "1.5.0",
          "state": {
            "_model_module": "@jupyter-widgets/controls",
            "_model_module_version": "1.5.0",
            "_model_name": "DescriptionStyleModel",
            "_view_count": null,
            "_view_module": "@jupyter-widgets/base",
            "_view_module_version": "1.2.0",
            "_view_name": "StyleView",
            "description_width": ""
          }
        },
        "5db1924f23c342729237943df428145e": {
          "model_module": "@jupyter-widgets/controls",
          "model_name": "HBoxModel",
          "model_module_version": "1.5.0",
          "state": {
            "_dom_classes": [],
            "_model_module": "@jupyter-widgets/controls",
            "_model_module_version": "1.5.0",
            "_model_name": "HBoxModel",
            "_view_count": null,
            "_view_module": "@jupyter-widgets/controls",
            "_view_module_version": "1.5.0",
            "_view_name": "HBoxView",
            "box_style": "",
            "children": [
              "IPY_MODEL_9ee01e4a67004177964969940af85a66",
              "IPY_MODEL_c713fc822ca84b32bf6c0ffed081b88d",
              "IPY_MODEL_0661c95f2c494fdfad853134db65380d"
            ],
            "layout": "IPY_MODEL_41cdd59f58d04901ad43ea702b0ac06a"
          }
        },
        "9ee01e4a67004177964969940af85a66": {
          "model_module": "@jupyter-widgets/controls",
          "model_name": "HTMLModel",
          "model_module_version": "1.5.0",
          "state": {
            "_dom_classes": [],
            "_model_module": "@jupyter-widgets/controls",
            "_model_module_version": "1.5.0",
            "_model_name": "HTMLModel",
            "_view_count": null,
            "_view_module": "@jupyter-widgets/controls",
            "_view_module_version": "1.5.0",
            "_view_name": "HTMLView",
            "description": "",
            "description_tooltip": null,
            "layout": "IPY_MODEL_6fb995f5525a4ff8aeabaff7aaaf17d1",
            "placeholder": "​",
            "style": "IPY_MODEL_550bce39031445d2b6d1a9999af89dc9",
            "value": "Downloading (…)cial_tokens_map.json: 100%"
          }
        },
        "c713fc822ca84b32bf6c0ffed081b88d": {
          "model_module": "@jupyter-widgets/controls",
          "model_name": "FloatProgressModel",
          "model_module_version": "1.5.0",
          "state": {
            "_dom_classes": [],
            "_model_module": "@jupyter-widgets/controls",
            "_model_module_version": "1.5.0",
            "_model_name": "FloatProgressModel",
            "_view_count": null,
            "_view_module": "@jupyter-widgets/controls",
            "_view_module_version": "1.5.0",
            "_view_name": "ProgressView",
            "bar_style": "success",
            "description": "",
            "description_tooltip": null,
            "layout": "IPY_MODEL_126c166d3e9b49bc9fb23a5419d34cd0",
            "max": 124,
            "min": 0,
            "orientation": "horizontal",
            "style": "IPY_MODEL_5d8479eac14b4de6a03b4b8c1fc2128c",
            "value": 124
          }
        },
        "0661c95f2c494fdfad853134db65380d": {
          "model_module": "@jupyter-widgets/controls",
          "model_name": "HTMLModel",
          "model_module_version": "1.5.0",
          "state": {
            "_dom_classes": [],
            "_model_module": "@jupyter-widgets/controls",
            "_model_module_version": "1.5.0",
            "_model_name": "HTMLModel",
            "_view_count": null,
            "_view_module": "@jupyter-widgets/controls",
            "_view_module_version": "1.5.0",
            "_view_name": "HTMLView",
            "description": "",
            "description_tooltip": null,
            "layout": "IPY_MODEL_b75a244e841e46fca4cf2636ebb1c1dc",
            "placeholder": "​",
            "style": "IPY_MODEL_de0bde4433a144ae8fc525adbf3ffb5c",
            "value": " 124/124 [00:00&lt;00:00, 5.17kB/s]"
          }
        },
        "41cdd59f58d04901ad43ea702b0ac06a": {
          "model_module": "@jupyter-widgets/base",
          "model_name": "LayoutModel",
          "model_module_version": "1.2.0",
          "state": {
            "_model_module": "@jupyter-widgets/base",
            "_model_module_version": "1.2.0",
            "_model_name": "LayoutModel",
            "_view_count": null,
            "_view_module": "@jupyter-widgets/base",
            "_view_module_version": "1.2.0",
            "_view_name": "LayoutView",
            "align_content": null,
            "align_items": null,
            "align_self": null,
            "border": null,
            "bottom": null,
            "display": null,
            "flex": null,
            "flex_flow": null,
            "grid_area": null,
            "grid_auto_columns": null,
            "grid_auto_flow": null,
            "grid_auto_rows": null,
            "grid_column": null,
            "grid_gap": null,
            "grid_row": null,
            "grid_template_areas": null,
            "grid_template_columns": null,
            "grid_template_rows": null,
            "height": null,
            "justify_content": null,
            "justify_items": null,
            "left": null,
            "margin": null,
            "max_height": null,
            "max_width": null,
            "min_height": null,
            "min_width": null,
            "object_fit": null,
            "object_position": null,
            "order": null,
            "overflow": null,
            "overflow_x": null,
            "overflow_y": null,
            "padding": null,
            "right": null,
            "top": null,
            "visibility": null,
            "width": null
          }
        },
        "6fb995f5525a4ff8aeabaff7aaaf17d1": {
          "model_module": "@jupyter-widgets/base",
          "model_name": "LayoutModel",
          "model_module_version": "1.2.0",
          "state": {
            "_model_module": "@jupyter-widgets/base",
            "_model_module_version": "1.2.0",
            "_model_name": "LayoutModel",
            "_view_count": null,
            "_view_module": "@jupyter-widgets/base",
            "_view_module_version": "1.2.0",
            "_view_name": "LayoutView",
            "align_content": null,
            "align_items": null,
            "align_self": null,
            "border": null,
            "bottom": null,
            "display": null,
            "flex": null,
            "flex_flow": null,
            "grid_area": null,
            "grid_auto_columns": null,
            "grid_auto_flow": null,
            "grid_auto_rows": null,
            "grid_column": null,
            "grid_gap": null,
            "grid_row": null,
            "grid_template_areas": null,
            "grid_template_columns": null,
            "grid_template_rows": null,
            "height": null,
            "justify_content": null,
            "justify_items": null,
            "left": null,
            "margin": null,
            "max_height": null,
            "max_width": null,
            "min_height": null,
            "min_width": null,
            "object_fit": null,
            "object_position": null,
            "order": null,
            "overflow": null,
            "overflow_x": null,
            "overflow_y": null,
            "padding": null,
            "right": null,
            "top": null,
            "visibility": null,
            "width": null
          }
        },
        "550bce39031445d2b6d1a9999af89dc9": {
          "model_module": "@jupyter-widgets/controls",
          "model_name": "DescriptionStyleModel",
          "model_module_version": "1.5.0",
          "state": {
            "_model_module": "@jupyter-widgets/controls",
            "_model_module_version": "1.5.0",
            "_model_name": "DescriptionStyleModel",
            "_view_count": null,
            "_view_module": "@jupyter-widgets/base",
            "_view_module_version": "1.2.0",
            "_view_name": "StyleView",
            "description_width": ""
          }
        },
        "126c166d3e9b49bc9fb23a5419d34cd0": {
          "model_module": "@jupyter-widgets/base",
          "model_name": "LayoutModel",
          "model_module_version": "1.2.0",
          "state": {
            "_model_module": "@jupyter-widgets/base",
            "_model_module_version": "1.2.0",
            "_model_name": "LayoutModel",
            "_view_count": null,
            "_view_module": "@jupyter-widgets/base",
            "_view_module_version": "1.2.0",
            "_view_name": "LayoutView",
            "align_content": null,
            "align_items": null,
            "align_self": null,
            "border": null,
            "bottom": null,
            "display": null,
            "flex": null,
            "flex_flow": null,
            "grid_area": null,
            "grid_auto_columns": null,
            "grid_auto_flow": null,
            "grid_auto_rows": null,
            "grid_column": null,
            "grid_gap": null,
            "grid_row": null,
            "grid_template_areas": null,
            "grid_template_columns": null,
            "grid_template_rows": null,
            "height": null,
            "justify_content": null,
            "justify_items": null,
            "left": null,
            "margin": null,
            "max_height": null,
            "max_width": null,
            "min_height": null,
            "min_width": null,
            "object_fit": null,
            "object_position": null,
            "order": null,
            "overflow": null,
            "overflow_x": null,
            "overflow_y": null,
            "padding": null,
            "right": null,
            "top": null,
            "visibility": null,
            "width": null
          }
        },
        "5d8479eac14b4de6a03b4b8c1fc2128c": {
          "model_module": "@jupyter-widgets/controls",
          "model_name": "ProgressStyleModel",
          "model_module_version": "1.5.0",
          "state": {
            "_model_module": "@jupyter-widgets/controls",
            "_model_module_version": "1.5.0",
            "_model_name": "ProgressStyleModel",
            "_view_count": null,
            "_view_module": "@jupyter-widgets/base",
            "_view_module_version": "1.2.0",
            "_view_name": "StyleView",
            "bar_color": null,
            "description_width": ""
          }
        },
        "b75a244e841e46fca4cf2636ebb1c1dc": {
          "model_module": "@jupyter-widgets/base",
          "model_name": "LayoutModel",
          "model_module_version": "1.2.0",
          "state": {
            "_model_module": "@jupyter-widgets/base",
            "_model_module_version": "1.2.0",
            "_model_name": "LayoutModel",
            "_view_count": null,
            "_view_module": "@jupyter-widgets/base",
            "_view_module_version": "1.2.0",
            "_view_name": "LayoutView",
            "align_content": null,
            "align_items": null,
            "align_self": null,
            "border": null,
            "bottom": null,
            "display": null,
            "flex": null,
            "flex_flow": null,
            "grid_area": null,
            "grid_auto_columns": null,
            "grid_auto_flow": null,
            "grid_auto_rows": null,
            "grid_column": null,
            "grid_gap": null,
            "grid_row": null,
            "grid_template_areas": null,
            "grid_template_columns": null,
            "grid_template_rows": null,
            "height": null,
            "justify_content": null,
            "justify_items": null,
            "left": null,
            "margin": null,
            "max_height": null,
            "max_width": null,
            "min_height": null,
            "min_width": null,
            "object_fit": null,
            "object_position": null,
            "order": null,
            "overflow": null,
            "overflow_x": null,
            "overflow_y": null,
            "padding": null,
            "right": null,
            "top": null,
            "visibility": null,
            "width": null
          }
        },
        "de0bde4433a144ae8fc525adbf3ffb5c": {
          "model_module": "@jupyter-widgets/controls",
          "model_name": "DescriptionStyleModel",
          "model_module_version": "1.5.0",
          "state": {
            "_model_module": "@jupyter-widgets/controls",
            "_model_module_version": "1.5.0",
            "_model_name": "DescriptionStyleModel",
            "_view_count": null,
            "_view_module": "@jupyter-widgets/base",
            "_view_module_version": "1.2.0",
            "_view_name": "StyleView",
            "description_width": ""
          }
        },
        "2e0defef37dd44dcbd27f3a9c2fba30b": {
          "model_module": "@jupyter-widgets/controls",
          "model_name": "HBoxModel",
          "model_module_version": "1.5.0",
          "state": {
            "_dom_classes": [],
            "_model_module": "@jupyter-widgets/controls",
            "_model_module_version": "1.5.0",
            "_model_name": "HBoxModel",
            "_view_count": null,
            "_view_module": "@jupyter-widgets/controls",
            "_view_module_version": "1.5.0",
            "_view_name": "HBoxView",
            "box_style": "",
            "children": [
              "IPY_MODEL_47303fda8303474ea8494012026210ee",
              "IPY_MODEL_ab2c50ccc42e4889a4edb77baf9583c0",
              "IPY_MODEL_d6e5c7aedc624e99bb3c01f76492d046"
            ],
            "layout": "IPY_MODEL_597d7f6343e44543a580df4e08aa810f"
          }
        },
        "47303fda8303474ea8494012026210ee": {
          "model_module": "@jupyter-widgets/controls",
          "model_name": "HTMLModel",
          "model_module_version": "1.5.0",
          "state": {
            "_dom_classes": [],
            "_model_module": "@jupyter-widgets/controls",
            "_model_module_version": "1.5.0",
            "_model_name": "HTMLModel",
            "_view_count": null,
            "_view_module": "@jupyter-widgets/controls",
            "_view_module_version": "1.5.0",
            "_view_name": "HTMLView",
            "description": "",
            "description_tooltip": null,
            "layout": "IPY_MODEL_65da9d704cf244e6865c406a52a3c946",
            "placeholder": "​",
            "style": "IPY_MODEL_9c610a6f64074f5f8ce0d2f5aa20424c",
            "value": "Downloading pytorch_model.bin: 100%"
          }
        },
        "ab2c50ccc42e4889a4edb77baf9583c0": {
          "model_module": "@jupyter-widgets/controls",
          "model_name": "FloatProgressModel",
          "model_module_version": "1.5.0",
          "state": {
            "_dom_classes": [],
            "_model_module": "@jupyter-widgets/controls",
            "_model_module_version": "1.5.0",
            "_model_name": "FloatProgressModel",
            "_view_count": null,
            "_view_module": "@jupyter-widgets/controls",
            "_view_module_version": "1.5.0",
            "_view_name": "ProgressView",
            "bar_style": "success",
            "description": "",
            "description_tooltip": null,
            "layout": "IPY_MODEL_27b473e1618449d98c2a60730b0fd3ee",
            "max": 511193709,
            "min": 0,
            "orientation": "horizontal",
            "style": "IPY_MODEL_8a430ee0c6014494877487f9e8edb25b",
            "value": 511193709
          }
        },
        "d6e5c7aedc624e99bb3c01f76492d046": {
          "model_module": "@jupyter-widgets/controls",
          "model_name": "HTMLModel",
          "model_module_version": "1.5.0",
          "state": {
            "_dom_classes": [],
            "_model_module": "@jupyter-widgets/controls",
            "_model_module_version": "1.5.0",
            "_model_name": "HTMLModel",
            "_view_count": null,
            "_view_module": "@jupyter-widgets/controls",
            "_view_module_version": "1.5.0",
            "_view_name": "HTMLView",
            "description": "",
            "description_tooltip": null,
            "layout": "IPY_MODEL_24e994e7ef7a4597bf6d2e7a89391e47",
            "placeholder": "​",
            "style": "IPY_MODEL_426b132f4d654bb79c3c22bc521cc869",
            "value": " 511M/511M [00:06&lt;00:00, 69.1MB/s]"
          }
        },
        "597d7f6343e44543a580df4e08aa810f": {
          "model_module": "@jupyter-widgets/base",
          "model_name": "LayoutModel",
          "model_module_version": "1.2.0",
          "state": {
            "_model_module": "@jupyter-widgets/base",
            "_model_module_version": "1.2.0",
            "_model_name": "LayoutModel",
            "_view_count": null,
            "_view_module": "@jupyter-widgets/base",
            "_view_module_version": "1.2.0",
            "_view_name": "LayoutView",
            "align_content": null,
            "align_items": null,
            "align_self": null,
            "border": null,
            "bottom": null,
            "display": null,
            "flex": null,
            "flex_flow": null,
            "grid_area": null,
            "grid_auto_columns": null,
            "grid_auto_flow": null,
            "grid_auto_rows": null,
            "grid_column": null,
            "grid_gap": null,
            "grid_row": null,
            "grid_template_areas": null,
            "grid_template_columns": null,
            "grid_template_rows": null,
            "height": null,
            "justify_content": null,
            "justify_items": null,
            "left": null,
            "margin": null,
            "max_height": null,
            "max_width": null,
            "min_height": null,
            "min_width": null,
            "object_fit": null,
            "object_position": null,
            "order": null,
            "overflow": null,
            "overflow_x": null,
            "overflow_y": null,
            "padding": null,
            "right": null,
            "top": null,
            "visibility": null,
            "width": null
          }
        },
        "65da9d704cf244e6865c406a52a3c946": {
          "model_module": "@jupyter-widgets/base",
          "model_name": "LayoutModel",
          "model_module_version": "1.2.0",
          "state": {
            "_model_module": "@jupyter-widgets/base",
            "_model_module_version": "1.2.0",
            "_model_name": "LayoutModel",
            "_view_count": null,
            "_view_module": "@jupyter-widgets/base",
            "_view_module_version": "1.2.0",
            "_view_name": "LayoutView",
            "align_content": null,
            "align_items": null,
            "align_self": null,
            "border": null,
            "bottom": null,
            "display": null,
            "flex": null,
            "flex_flow": null,
            "grid_area": null,
            "grid_auto_columns": null,
            "grid_auto_flow": null,
            "grid_auto_rows": null,
            "grid_column": null,
            "grid_gap": null,
            "grid_row": null,
            "grid_template_areas": null,
            "grid_template_columns": null,
            "grid_template_rows": null,
            "height": null,
            "justify_content": null,
            "justify_items": null,
            "left": null,
            "margin": null,
            "max_height": null,
            "max_width": null,
            "min_height": null,
            "min_width": null,
            "object_fit": null,
            "object_position": null,
            "order": null,
            "overflow": null,
            "overflow_x": null,
            "overflow_y": null,
            "padding": null,
            "right": null,
            "top": null,
            "visibility": null,
            "width": null
          }
        },
        "9c610a6f64074f5f8ce0d2f5aa20424c": {
          "model_module": "@jupyter-widgets/controls",
          "model_name": "DescriptionStyleModel",
          "model_module_version": "1.5.0",
          "state": {
            "_model_module": "@jupyter-widgets/controls",
            "_model_module_version": "1.5.0",
            "_model_name": "DescriptionStyleModel",
            "_view_count": null,
            "_view_module": "@jupyter-widgets/base",
            "_view_module_version": "1.2.0",
            "_view_name": "StyleView",
            "description_width": ""
          }
        },
        "27b473e1618449d98c2a60730b0fd3ee": {
          "model_module": "@jupyter-widgets/base",
          "model_name": "LayoutModel",
          "model_module_version": "1.2.0",
          "state": {
            "_model_module": "@jupyter-widgets/base",
            "_model_module_version": "1.2.0",
            "_model_name": "LayoutModel",
            "_view_count": null,
            "_view_module": "@jupyter-widgets/base",
            "_view_module_version": "1.2.0",
            "_view_name": "LayoutView",
            "align_content": null,
            "align_items": null,
            "align_self": null,
            "border": null,
            "bottom": null,
            "display": null,
            "flex": null,
            "flex_flow": null,
            "grid_area": null,
            "grid_auto_columns": null,
            "grid_auto_flow": null,
            "grid_auto_rows": null,
            "grid_column": null,
            "grid_gap": null,
            "grid_row": null,
            "grid_template_areas": null,
            "grid_template_columns": null,
            "grid_template_rows": null,
            "height": null,
            "justify_content": null,
            "justify_items": null,
            "left": null,
            "margin": null,
            "max_height": null,
            "max_width": null,
            "min_height": null,
            "min_width": null,
            "object_fit": null,
            "object_position": null,
            "order": null,
            "overflow": null,
            "overflow_x": null,
            "overflow_y": null,
            "padding": null,
            "right": null,
            "top": null,
            "visibility": null,
            "width": null
          }
        },
        "8a430ee0c6014494877487f9e8edb25b": {
          "model_module": "@jupyter-widgets/controls",
          "model_name": "ProgressStyleModel",
          "model_module_version": "1.5.0",
          "state": {
            "_model_module": "@jupyter-widgets/controls",
            "_model_module_version": "1.5.0",
            "_model_name": "ProgressStyleModel",
            "_view_count": null,
            "_view_module": "@jupyter-widgets/base",
            "_view_module_version": "1.2.0",
            "_view_name": "StyleView",
            "bar_color": null,
            "description_width": ""
          }
        },
        "24e994e7ef7a4597bf6d2e7a89391e47": {
          "model_module": "@jupyter-widgets/base",
          "model_name": "LayoutModel",
          "model_module_version": "1.2.0",
          "state": {
            "_model_module": "@jupyter-widgets/base",
            "_model_module_version": "1.2.0",
            "_model_name": "LayoutModel",
            "_view_count": null,
            "_view_module": "@jupyter-widgets/base",
            "_view_module_version": "1.2.0",
            "_view_name": "LayoutView",
            "align_content": null,
            "align_items": null,
            "align_self": null,
            "border": null,
            "bottom": null,
            "display": null,
            "flex": null,
            "flex_flow": null,
            "grid_area": null,
            "grid_auto_columns": null,
            "grid_auto_flow": null,
            "grid_auto_rows": null,
            "grid_column": null,
            "grid_gap": null,
            "grid_row": null,
            "grid_template_areas": null,
            "grid_template_columns": null,
            "grid_template_rows": null,
            "height": null,
            "justify_content": null,
            "justify_items": null,
            "left": null,
            "margin": null,
            "max_height": null,
            "max_width": null,
            "min_height": null,
            "min_width": null,
            "object_fit": null,
            "object_position": null,
            "order": null,
            "overflow": null,
            "overflow_x": null,
            "overflow_y": null,
            "padding": null,
            "right": null,
            "top": null,
            "visibility": null,
            "width": null
          }
        },
        "426b132f4d654bb79c3c22bc521cc869": {
          "model_module": "@jupyter-widgets/controls",
          "model_name": "DescriptionStyleModel",
          "model_module_version": "1.5.0",
          "state": {
            "_model_module": "@jupyter-widgets/controls",
            "_model_module_version": "1.5.0",
            "_model_name": "DescriptionStyleModel",
            "_view_count": null,
            "_view_module": "@jupyter-widgets/base",
            "_view_module_version": "1.2.0",
            "_view_name": "StyleView",
            "description_width": ""
          }
        }
      }
    }
  },
  "cells": [
    {
      "cell_type": "markdown",
      "metadata": {
        "id": "view-in-github",
        "colab_type": "text"
      },
      "source": [
        "<a href=\"https://colab.research.google.com/github/Hing-9/popup_store/blob/main/KcElectra_Fine_Tuning.ipynb\" target=\"_parent\"><img src=\"https://colab.research.google.com/assets/colab-badge.svg\" alt=\"Open In Colab\"/></a>"
      ]
    },
    {
      "cell_type": "code",
      "execution_count": null,
      "metadata": {
        "colab": {
          "base_uri": "https://localhost:8080/"
        },
        "id": "-AJqqASjOA45",
        "outputId": "6ba9efd9-40ca-498b-fcb9-f75f3bec6aa5"
      },
      "outputs": [
        {
          "output_type": "stream",
          "name": "stdout",
          "text": [
            "Looking in indexes: https://pypi.org/simple, https://us-python.pkg.dev/colab-wheels/public/simple/\n",
            "Collecting transformers\n",
            "  Downloading transformers-4.28.1-py3-none-any.whl (7.0 MB)\n",
            "\u001b[2K     \u001b[90m━━━━━━━━━━━━━━━━━━━━━━━━━━━━━━━━━━━━━━━━\u001b[0m \u001b[32m7.0/7.0 MB\u001b[0m \u001b[31m95.8 MB/s\u001b[0m eta \u001b[36m0:00:00\u001b[0m\n",
            "\u001b[?25hRequirement already satisfied: numpy>=1.17 in /usr/local/lib/python3.10/dist-packages (from transformers) (1.22.4)\n",
            "Requirement already satisfied: tqdm>=4.27 in /usr/local/lib/python3.10/dist-packages (from transformers) (4.65.0)\n",
            "Requirement already satisfied: requests in /usr/local/lib/python3.10/dist-packages (from transformers) (2.27.1)\n",
            "Requirement already satisfied: packaging>=20.0 in /usr/local/lib/python3.10/dist-packages (from transformers) (23.1)\n",
            "Requirement already satisfied: filelock in /usr/local/lib/python3.10/dist-packages (from transformers) (3.12.0)\n",
            "Collecting tokenizers!=0.11.3,<0.14,>=0.11.1\n",
            "  Downloading tokenizers-0.13.3-cp310-cp310-manylinux_2_17_x86_64.manylinux2014_x86_64.whl (7.8 MB)\n",
            "\u001b[2K     \u001b[90m━━━━━━━━━━━━━━━━━━━━━━━━━━━━━━━━━━━━━━━━\u001b[0m \u001b[32m7.8/7.8 MB\u001b[0m \u001b[31m88.2 MB/s\u001b[0m eta \u001b[36m0:00:00\u001b[0m\n",
            "\u001b[?25hRequirement already satisfied: pyyaml>=5.1 in /usr/local/lib/python3.10/dist-packages (from transformers) (6.0)\n",
            "Collecting huggingface-hub<1.0,>=0.11.0\n",
            "  Downloading huggingface_hub-0.14.1-py3-none-any.whl (224 kB)\n",
            "\u001b[2K     \u001b[90m━━━━━━━━━━━━━━━━━━━━━━━━━━━━━━━━━━━━━━\u001b[0m \u001b[32m224.5/224.5 kB\u001b[0m \u001b[31m24.6 MB/s\u001b[0m eta \u001b[36m0:00:00\u001b[0m\n",
            "\u001b[?25hRequirement already satisfied: regex!=2019.12.17 in /usr/local/lib/python3.10/dist-packages (from transformers) (2022.10.31)\n",
            "Requirement already satisfied: typing-extensions>=3.7.4.3 in /usr/local/lib/python3.10/dist-packages (from huggingface-hub<1.0,>=0.11.0->transformers) (4.5.0)\n",
            "Requirement already satisfied: fsspec in /usr/local/lib/python3.10/dist-packages (from huggingface-hub<1.0,>=0.11.0->transformers) (2023.4.0)\n",
            "Requirement already satisfied: charset-normalizer~=2.0.0 in /usr/local/lib/python3.10/dist-packages (from requests->transformers) (2.0.12)\n",
            "Requirement already satisfied: urllib3<1.27,>=1.21.1 in /usr/local/lib/python3.10/dist-packages (from requests->transformers) (1.26.15)\n",
            "Requirement already satisfied: idna<4,>=2.5 in /usr/local/lib/python3.10/dist-packages (from requests->transformers) (3.4)\n",
            "Requirement already satisfied: certifi>=2017.4.17 in /usr/local/lib/python3.10/dist-packages (from requests->transformers) (2022.12.7)\n",
            "Installing collected packages: tokenizers, huggingface-hub, transformers\n",
            "Successfully installed huggingface-hub-0.14.1 tokenizers-0.13.3 transformers-4.28.1\n"
          ]
        }
      ],
      "source": [
        "!pip install transformers"
      ]
    },
    {
      "cell_type": "code",
      "source": [
        "from google.colab import drive\n",
        "drive.mount('/content/drive')\n",
        "\n",
        "%cd /content/drive/MyDrive/Graduation-Thesis/NER"
      ],
      "metadata": {
        "colab": {
          "base_uri": "https://localhost:8080/"
        },
        "id": "64FQ8A_rPv0R",
        "outputId": "0d3d9eeb-c9bf-426c-bbf2-afd6cba37fa3"
      },
      "execution_count": null,
      "outputs": [
        {
          "output_type": "stream",
          "name": "stdout",
          "text": [
            "Mounted at /content/drive\n",
            "/content/drive/MyDrive/Graduation-Thesis/NER\n"
          ]
        }
      ]
    },
    {
      "cell_type": "code",
      "source": [
        "import json\n",
        "import pandas as pd\n",
        "import numpy as np\n",
        "import matplotlib.pyplot as plt\n",
        "import random\n",
        "\n",
        "import torch\n",
        "import torch.backends.cudnn as cudnn\n",
        "from transformers import AutoTokenizer, AutoModel\n",
        "from sklearn.metrics import precision_score, recall_score, f1_score, classification_report"
      ],
      "metadata": {
        "id": "hlH1y9BTP0Jj"
      },
      "execution_count": null,
      "outputs": []
    },
    {
      "cell_type": "code",
      "source": [
        "torch.manual_seed(98)\n",
        "torch.cuda.manual_seed(98)\n",
        "torch.cuda.manual_seed_all(98)\n",
        "cudnn.benchmark = False\n",
        "cudnn.deterministic = True"
      ],
      "metadata": {
        "id": "-0UPefDM91Uo"
      },
      "execution_count": null,
      "outputs": []
    },
    {
      "cell_type": "code",
      "source": [
        "device = torch.device('cuda:0' if torch.cuda.is_available() else 'cpu')\n",
        "torch.cuda.get_device_name(0)"
      ],
      "metadata": {
        "colab": {
          "base_uri": "https://localhost:8080/",
          "height": 37
        },
        "id": "g1QndW-g9qFy",
        "outputId": "1971dcdb-4440-4a8d-ceda-3a0b32b9da93"
      },
      "execution_count": null,
      "outputs": [
        {
          "output_type": "execute_result",
          "data": {
            "text/plain": [
              "'Tesla T4'"
            ],
            "application/vnd.google.colaboratory.intrinsic+json": {
              "type": "string"
            }
          },
          "metadata": {},
          "execution_count": 34
        }
      ]
    },
    {
      "cell_type": "code",
      "source": [
        "def file_to_data(path) :\n",
        "    with open(path, 'r', encoding='UTF-8') as f :\n",
        "        return json.load(f)['data']\n",
        "\n",
        "def data_only_org(data) :\n",
        "    ner_sentences = []\n",
        "    for sentence in data :\n",
        "        if sentence['ner'] : # NER 있는 데이터 발견\n",
        "            tags = sentence['ner']['tags']\n",
        "            org_flag = False\n",
        "            for tag in tags :\n",
        "                if tag['tag'] == 'ORG' :\n",
        "                    org_flag = True\n",
        "                    break\n",
        "            if org_flag :\n",
        "                ner_sentences.append(sentence)\n",
        "    return ner_sentences"
      ],
      "metadata": {
        "id": "c0YKRqoAYvD_"
      },
      "execution_count": null,
      "outputs": []
    },
    {
      "cell_type": "code",
      "source": [
        "data_영한 = file_to_data('./일상생활및구어체_영한_train_set.json')\n",
        "data_한영 = file_to_data('./일상생활및구어체_한영_train_set.json')"
      ],
      "metadata": {
        "id": "h9qO9GJgQU7f"
      },
      "execution_count": null,
      "outputs": []
    },
    {
      "cell_type": "code",
      "source": [
        "# 데이터 결합\n",
        "data = data_영한.copy()\n",
        "data.extend(data_한영.copy())\n",
        "\n",
        "print(f'{len(data)} = {len(data_영한)} + {len(data_한영)}')\n",
        "\n",
        "assert len(data) == len(data_영한)+len(data_한영)"
      ],
      "metadata": {
        "id": "yfMijh6bbJyF",
        "colab": {
          "base_uri": "https://localhost:8080/"
        },
        "outputId": "19575d72-f266-4d31-8788-0d2d8c2f67b7"
      },
      "execution_count": null,
      "outputs": [
        {
          "output_type": "stream",
          "name": "stdout",
          "text": [
            "2400307 = 1200307 + 1200000\n"
          ]
        }
      ]
    },
    {
      "cell_type": "code",
      "source": [
        "print(f'전체 데이터 개수 : '+str(len(data)))\n",
        "data = data_only_org(data)\n",
        "print(f'NER에 ORG가 포함된 데이터 개수 : '+str(len(data)))"
      ],
      "metadata": {
        "colab": {
          "base_uri": "https://localhost:8080/"
        },
        "id": "44r1Hik5bImk",
        "outputId": "fddab3e0-5fd9-4a2c-cfcb-30e827f1d90b"
      },
      "execution_count": null,
      "outputs": [
        {
          "output_type": "stream",
          "name": "stdout",
          "text": [
            "전체 데이터 개수 : 2400307\n",
            "NER에 ORG가 포함된 데이터 개수 : 30244\n"
          ]
        }
      ]
    },
    {
      "cell_type": "code",
      "source": [
        "data[0]"
      ],
      "metadata": {
        "colab": {
          "base_uri": "https://localhost:8080/"
        },
        "id": "ztB0hjuR5r9h",
        "outputId": "1c8b4ef9-d4cf-4e77-8790-3a310ecca23b"
      },
      "execution_count": null,
      "outputs": [
        {
          "output_type": "execute_result",
          "data": {
            "text/plain": [
              "{'sn': 'ECOAR2T00367',\n",
              " 'data_set': '일상생활및구어체',\n",
              " 'domain': '해외고객과의채팅',\n",
              " 'subdomain': '숙박,음식점',\n",
              " 'en_original': 'I am a professor at BBB1.',\n",
              " 'en': 'I am a professor at BBB1.',\n",
              " 'mt': '저는 BBB1의 교수입니다.',\n",
              " 'ko': '저는 BBB1의 교수입니다.',\n",
              " 'source_language': 'en',\n",
              " 'target_language': 'ko',\n",
              " 'word_count_ko': 3.0,\n",
              " 'word_count_en': 6.0,\n",
              " 'word_ratio': 0.5,\n",
              " 'file_name': '해외고객과의채팅_숙박,음식점.xlsx',\n",
              " 'source': '크라우드 소싱',\n",
              " 'license': 'open',\n",
              " 'style': '구어체',\n",
              " 'included_unknown_words': False,\n",
              " 'ner': {'text': '저는 <ORG>BBB1의</ORG> 교수입니다.',\n",
              "  'tags': [{'tag': 'ORG', 'value': 'BBB1의', 'position': '[3, 8]'}]}}"
            ]
          },
          "metadata": {},
          "execution_count": 8
        }
      ]
    },
    {
      "cell_type": "code",
      "source": [
        "# # 이거는 실행해볼 필요는 없음!!\n",
        "# def kind_of_ner_tags(data) :\n",
        "#     result = []\n",
        "#     for sentence in data :\n",
        "#         tags = sentence['ner']['tags']\n",
        "#         for tag in tags :\n",
        "#             result.append(tag['tag'])\n",
        "    \n",
        "#     result = list(set(result))\n",
        "#     return result\n",
        "\n",
        "# def value_for_tag(find_tag, data) :\n",
        "#     result = []\n",
        "#     MAX_CNT = 10\n",
        "#     cnt = 0\n",
        "\n",
        "#     for sentence in data :\n",
        "#         tags = sentence['ner']['tags']\n",
        "#         for tag in tags :\n",
        "#             if tag['tag'] == find_tag :\n",
        "#                 result.append(tag['value'])\n",
        "#                 cnt += 1\n",
        "        \n",
        "#         if cnt >= MAX_CNT :\n",
        "#                 break;\n",
        "    \n",
        "#     return result\n",
        "\n",
        "\n",
        "# tags = kind_of_ner_tags(data)\n",
        "# print(f'모든 데이터에서 검출된 NER TAGS : {tags}')\n",
        "# print()\n",
        "\n",
        "# for tag in tags :\n",
        "#     print(f'==== TAG : {tag}====')\n",
        "#     print(value_for_tag(tag, data))"
      ],
      "metadata": {
        "id": "HD_7et8_a-ve"
      },
      "execution_count": null,
      "outputs": []
    },
    {
      "cell_type": "code",
      "source": [
        "# # 혹시나.. 팝업이 들어간 데이터를 추출해보자\n",
        "# def find_popup(data) : \n",
        "#     result = []\n",
        "#     for sentence in data :\n",
        "#         if '팝업' in sentence['ko'] :\n",
        "#             result.append(sentence['ko'])\n",
        "#         # elif '스토어' in sentence['ko'] :\n",
        "#         #     result.append(sentence['ko'])\n",
        "#     return result\n",
        "\n",
        "# find_popup(data)"
      ],
      "metadata": {
        "id": "3MvKOhf5htJd"
      },
      "execution_count": null,
      "outputs": []
    },
    {
      "cell_type": "code",
      "source": [
        "# ORG 태그에 브랜드명을 넣어 학습시키는게 정당해보임.\n",
        "# 브랜드명은 소상공인 데이터\n",
        "brand_data = pd.read_csv('./소상공인시장진흥공단_상가(상권)정보_서울_202212.csv', encoding='UTF-8')\n",
        "brand_names = brand_data['상호명'].values"
      ],
      "metadata": {
        "id": "XBlHlNC8eLYw"
      },
      "execution_count": null,
      "outputs": []
    },
    {
      "cell_type": "code",
      "source": [
        "# 랜덤하게 브랜드명을 입력\n",
        "rnd_idx = random.randrange(0, len(brand_names))\n",
        "brand_names[rnd_idx]"
      ],
      "metadata": {
        "colab": {
          "base_uri": "https://localhost:8080/",
          "height": 37
        },
        "id": "bvsiYxLskZCv",
        "outputId": "383be188-45f1-4b63-daa2-afb31e2cfe02"
      },
      "execution_count": null,
      "outputs": [
        {
          "output_type": "execute_result",
          "data": {
            "text/plain": [
              "'까사브라질그릴'"
            ],
            "application/vnd.google.colaboratory.intrinsic+json": {
              "type": "string"
            }
          },
          "metadata": {},
          "execution_count": 12
        }
      ]
    },
    {
      "cell_type": "code",
      "source": [
        "def random_brand_transfer(data) :\n",
        "    tmp_data = data.copy()\n",
        "\n",
        "    tokens_arr = []\n",
        "    tags_arr  = []\n",
        "\n",
        "    for idx, sentence in enumerate(tmp_data) :\n",
        "\n",
        "        # 위에서 데이터를 한번 걸렀다.\n",
        "        # NER 태그가 있고, ORG 태그가 있는 것들로!\n",
        "        \n",
        "        tags = sentence['ner']['tags']\n",
        "        position_arr = []\n",
        "\n",
        "        # 태그 위치를 파악한다.\n",
        "        for tag in tags :\n",
        "\n",
        "            if tag['tag'] == 'ORG' :\n",
        "                positions = tag['position'][1:-1].split(',')\n",
        "                start_index = int(positions[0])\n",
        "                end_index = int(positions[1])\n",
        "\n",
        "                index_arr = []\n",
        "                index_arr.append(start_index)\n",
        "                index_arr.append(end_index)\n",
        "                position_arr.append(index_arr)\n",
        "        \n",
        "        # 내림차순으로 정렬\n",
        "        position_arr.sort(reverse=True)\n",
        "        new_sentence = sentence['ko']\n",
        "        for idx_small, position in enumerate(position_arr) :\n",
        "            \n",
        "            # 브랜드 이름 랜덤 추출 및 세팅\n",
        "            rnd_idx = random.randrange(0, len(brand_names))\n",
        "            chg_org = brand_names[rnd_idx]\n",
        "\n",
        "            new_sentence = new_sentence[:position[0]] + chg_org + new_sentence[position[1]:]\n",
        "\n",
        "            # 인덱스 증가분\n",
        "            indeCrease = len(chg_org) - (position[1]-position[0])\n",
        "\n",
        "            # 인덱스 재설정\n",
        "            position[1] += indeCrease\n",
        "            for pre_position in position_arr[:idx_small] :\n",
        "                pre_position[0] += indeCrease\n",
        "                pre_position[1] += indeCrease\n",
        "\n",
        "        # if idx == 26805 :\n",
        "        #     print(sentence['ko'])\n",
        "        #     print(new_sentence)\n",
        "            \n",
        "        #     for word_pos in position_arr :\n",
        "        #         print(new_sentence[word_pos[0]:word_pos[1]])\n",
        "\n",
        "        # token과 tag 세팅 시작\n",
        "        new_sentence = new_sentence.replace(' ', '_')\n",
        "        tokens_sentence = list(new_sentence)\n",
        "        tags_sentence = []\n",
        "        for i in range(len(tokens_sentence)) :\n",
        "            tags_sentence.append('O')\n",
        "        \n",
        "        for position in position_arr :\n",
        "            for i in range(position[0], position[1]) :\n",
        "               \n",
        "                if i == position[0] :\n",
        "                   tag_nm = 'B-ORG'\n",
        "                else :\n",
        "                    tag_nm = 'I-ORG'\n",
        "               \n",
        "                tags_sentence[i] = tag_nm\n",
        "\n",
        "        # if idx == 26805 :\n",
        "        #     print(tokens_sentence)\n",
        "        #     print(tags_sentence)\n",
        "\n",
        "        tokens_arr.append(tokens_sentence)\n",
        "        tags_arr.append(tags_sentence)\n",
        "\n",
        "    return tokens_arr, tags_arr\n",
        "\n",
        "texts, tags = random_brand_transfer(data)\n",
        "\n",
        "len(texts)\n",
        "len(tags)"
      ],
      "metadata": {
        "colab": {
          "base_uri": "https://localhost:8080/"
        },
        "id": "aRfSJtmpqVfF",
        "outputId": "a0373d51-451e-4129-fc3e-c87fd4611c58"
      },
      "execution_count": null,
      "outputs": [
        {
          "output_type": "execute_result",
          "data": {
            "text/plain": [
              "30244"
            ]
          },
          "metadata": {},
          "execution_count": 13
        }
      ]
    },
    {
      "cell_type": "code",
      "source": [
        "unique_tags = set(tag for doc in tags for tag in doc)\n",
        "tag2id = {tag: id for id, tag in enumerate(unique_tags)}\n",
        "id2tag = {id: tag for tag, id in tag2id.items()}\n",
        "\n",
        "for i, tag in enumerate(unique_tags):\n",
        "    print(tag)  # 학습을 위한 label list를 확인"
      ],
      "metadata": {
        "colab": {
          "base_uri": "https://localhost:8080/"
        },
        "id": "MhaWg_2f47re",
        "outputId": "60a3e38c-77ea-4317-f3a5-fbe1f2ba7d79"
      },
      "execution_count": null,
      "outputs": [
        {
          "output_type": "stream",
          "name": "stdout",
          "text": [
            "B-ORG\n",
            "O\n",
            "I-ORG\n"
          ]
        }
      ]
    },
    {
      "cell_type": "markdown",
      "source": [
        "## EDA"
      ],
      "metadata": {
        "id": "qKFN3tQ24bBc"
      }
    },
    {
      "cell_type": "code",
      "source": [
        "texts_len = [len(x) for x in texts]\n",
        "\n",
        "plt.figure(figsize=(16,10))\n",
        "plt.hist(texts_len, bins=50, range=[0,800], facecolor='b', density=True, label='Text Length')\n",
        "plt.title('Text Length Histogram')\n",
        "plt.legend()\n",
        "plt.xlabel('Number of Words')\n",
        "plt.ylabel('Probability')"
      ],
      "metadata": {
        "colab": {
          "base_uri": "https://localhost:8080/",
          "height": 537
        },
        "id": "IPo7HXT_4-PJ",
        "outputId": "b1ca57d3-180f-4f6b-993d-c34791ebcd2d"
      },
      "execution_count": null,
      "outputs": [
        {
          "output_type": "execute_result",
          "data": {
            "text/plain": [
              "Text(0, 0.5, 'Probability')"
            ]
          },
          "metadata": {},
          "execution_count": 15
        },
        {
          "output_type": "display_data",
          "data": {
            "text/plain": [
              "<Figure size 1600x1000 with 1 Axes>"
            ],
            "image/png": "[encoded data removed]"
          },
          "metadata": {}
        }
      ]
    },
    {
      "cell_type": "code",
      "source": [
        "for tag in list(tag2id.keys()) : \n",
        "    globals()[tag] = 0\n",
        "\n",
        "for tag in tags : \n",
        "    for ner in tag : \n",
        "        globals()[ner] += 1\n",
        "\n",
        "for tag in list(tag2id.keys()) : \n",
        "    print('{:>6} : {:>7,}'. format(tag, globals()[tag]))"
      ],
      "metadata": {
        "colab": {
          "base_uri": "https://localhost:8080/"
        },
        "id": "MFf8866v5JTU",
        "outputId": "32998d40-8ba1-4ae4-ee8c-ef7b28f2321a"
      },
      "execution_count": null,
      "outputs": [
        {
          "output_type": "stream",
          "name": "stdout",
          "text": [
            " B-ORG :  32,421\n",
            "     O : 808,038\n",
            " I-ORG : 151,041\n"
          ]
        }
      ]
    },
    {
      "cell_type": "markdown",
      "source": [
        "## Split"
      ],
      "metadata": {
        "id": "nyDY3Ld86HiB"
      }
    },
    {
      "cell_type": "code",
      "source": [
        "from sklearn.model_selection import train_test_split\n",
        "\n",
        "train_texts, test_texts, train_tags, test_tags = train_test_split(texts, tags, test_size=.2, random_state=98)"
      ],
      "metadata": {
        "id": "hURXTXPM6UsT"
      },
      "execution_count": null,
      "outputs": []
    },
    {
      "cell_type": "code",
      "source": [
        "print('Train 문장 : {:>6,}' .format(len(train_texts)))\n",
        "print('Train 태그 : {:>6,}' .format(len(train_tags)))\n",
        "print('Test  문장 : {:>6,}' .format(len(test_texts)))\n",
        "print('Test  태그 : {:>6,}' .format(len(test_tags)))"
      ],
      "metadata": {
        "colab": {
          "base_uri": "https://localhost:8080/"
        },
        "id": "Vwnt_ul36Yn7",
        "outputId": "bc0ecf30-34a8-407f-a810-c142cc638a7d"
      },
      "execution_count": null,
      "outputs": [
        {
          "output_type": "stream",
          "name": "stdout",
          "text": [
            "Train 문장 : 24,195\n",
            "Train 태그 : 24,195\n",
            "Test  문장 :  6,049\n",
            "Test  태그 :  6,049\n"
          ]
        }
      ]
    },
    {
      "cell_type": "markdown",
      "source": [
        "## Tokenizing"
      ],
      "metadata": {
        "id": "XEAJ5qmT7CGf"
      }
    },
    {
      "cell_type": "code",
      "source": [
        "model_name = \"beomi/KcELECTRA-base-v2022\"\n",
        "tokenizer = AutoTokenizer.from_pretrained(model_name)"
      ],
      "metadata": {
        "colab": {
          "base_uri": "https://localhost:8080/",
          "height": 173,
          "referenced_widgets": [
            "eee82485f5364fe1b4d5115ca1a497d9",
            "8c27591f02e641ff98bb872bd2b2039b",
            "3749c11b32c044fea6c649b1805bbdbf",
            "ff61924eaf8a409db8a9a5f40629175d",
            "0c2cca34323048f79cbdade0512048c7",
            "9f18c02ee1d64ee5b4d3a3353fc23089",
            "ca8db9c4f42c461e9a11ccf8c90b11dc",
            "e52ef46f302645d8b96b924f782c571d",
            "0b1b72653b854763a2ee2f633d7c79be",
            "a03e90b56b4941acb17b8d9903cf8f1f",
            "2074cd24b7d94e5ca4d7f0abf201f9ac",
            "b7d9b68f9efd41c9b85266a26b8e36b7",
            "1376e9d9b0ca4b0c952335b45d1caa45",
            "3ddcbc8b06304b7aa9591d1cb3c1694c",
            "02bf59481d6f43fe88a4b0c8625fcc08",
            "8e4ff23c5aa343a0ab89da01963c1a2e",
            "dfce1e9622a6472d9ec906b9b6b906c0",
            "70da600b52614e8d81512217bd30fc89",
            "0ba70497274e471abd60248ff62d52fc",
            "109a6290253b471bb5a502777382e8e9",
            "59f947408d3d4a0e944715fa8512aa6a",
            "74c6105e764348a7a42379c4ce45e182",
            "8bfd0841a78940dd825a17bc13976a6c",
            "874c1ca5451d45bbbf1160b8351023fc",
            "7edb17b89bf548c98a35b826a24da265",
            "2edc749856df40ac94ff31dfe2ae88c7",
            "6b9c71b341ef4d38b7929d01a51ae64a",
            "e0b46f0d66c042248af7770a79e65844",
            "ce77be123be749b7b240bf3641da4025",
            "4185f0ab9b89468bac3e639423083150",
            "1d19f99e92a54e53846a8c22ee04bb61",
            "560e4e7752fc4084b0184a24af520183",
            "40f30c26b70140269cbc19dee5f52234",
            "5db1924f23c342729237943df428145e",
            "9ee01e4a67004177964969940af85a66",
            "c713fc822ca84b32bf6c0ffed081b88d",
            "0661c95f2c494fdfad853134db65380d",
            "41cdd59f58d04901ad43ea702b0ac06a",
            "6fb995f5525a4ff8aeabaff7aaaf17d1",
            "550bce39031445d2b6d1a9999af89dc9",
            "126c166d3e9b49bc9fb23a5419d34cd0",
            "5d8479eac14b4de6a03b4b8c1fc2128c",
            "b75a244e841e46fca4cf2636ebb1c1dc",
            "de0bde4433a144ae8fc525adbf3ffb5c"
          ]
        },
        "id": "TCQwRMFV67jO",
        "outputId": "5b3770a9-9b43-4e5f-bd66-1585b30a7b8f"
      },
      "execution_count": null,
      "outputs": [
        {
          "output_type": "display_data",
          "data": {
            "text/plain": [
              "Downloading (…)okenizer_config.json:   0%|          | 0.00/288 [00:00<?, ?B/s]"
            ],
            "application/vnd.jupyter.widget-view+json": {
              "version_major": 2,
              "version_minor": 0,
              "model_id": "eee82485f5364fe1b4d5115ca1a497d9"
            }
          },
          "metadata": {}
        },
        {
          "output_type": "display_data",
          "data": {
            "text/plain": [
              "Downloading (…)lve/main/config.json:   0%|          | 0.00/504 [00:00<?, ?B/s]"
            ],
            "application/vnd.jupyter.widget-view+json": {
              "version_major": 2,
              "version_minor": 0,
              "model_id": "b7d9b68f9efd41c9b85266a26b8e36b7"
            }
          },
          "metadata": {}
        },
        {
          "output_type": "display_data",
          "data": {
            "text/plain": [
              "Downloading (…)solve/main/vocab.txt:   0%|          | 0.00/450k [00:00<?, ?B/s]"
            ],
            "application/vnd.jupyter.widget-view+json": {
              "version_major": 2,
              "version_minor": 0,
              "model_id": "8bfd0841a78940dd825a17bc13976a6c"
            }
          },
          "metadata": {}
        },
        {
          "output_type": "display_data",
          "data": {
            "text/plain": [
              "Downloading (…)cial_tokens_map.json:   0%|          | 0.00/124 [00:00<?, ?B/s]"
            ],
            "application/vnd.jupyter.widget-view+json": {
              "version_major": 2,
              "version_minor": 0,
              "model_id": "5db1924f23c342729237943df428145e"
            }
          },
          "metadata": {}
        }
      ]
    },
    {
      "cell_type": "code",
      "source": [
        "pad_token_id = tokenizer.pad_token_id # 0\n",
        "cls_token_id = tokenizer.cls_token_id # 101\n",
        "sep_token_id = tokenizer.sep_token_id # 102\n",
        "pad_token_label_id = tag2id['O']    # tag2id['O']\n",
        "cls_token_label_id = tag2id['O']\n",
        "sep_token_label_id = tag2id['O']"
      ],
      "metadata": {
        "id": "PUkWAAE069db"
      },
      "execution_count": null,
      "outputs": []
    },
    {
      "cell_type": "code",
      "source": [
        "# 기존 토크나이저는 wordPiece tokenizer로 tokenizing 결과를 반환합니다.\n",
        "# 데이터 단위를 음절 단위로 변경했기 때문에, tokenizer도 음절 tokenizer로 바꿔줘야함\n",
        "\n",
        "# berttokenizer를 쓸건데 여기에 들어있는 8000개 밖에 안되는 한국어가 들어있지만 많은수가 음절이다.\n",
        "# 한국어들의 거의 음절로 존재. -> 음절 단위 tokenizer를 적용해도 vocab id를 어느 정도 획득할 수 있음.\n",
        "# 그래서 음절로 쪼개면 UNK가 별로 없을 것이다.\n",
        "\n",
        "def ner_tokenizer(sent, max_seq_length):    \n",
        "    pre_syllable = \"_\"\n",
        "    input_ids = [pad_token_id] * (max_seq_length - 1)\n",
        "    attention_mask = [0] * (max_seq_length - 1)\n",
        "    token_type_ids = [0] * max_seq_length\n",
        "    sent = sent[:max_seq_length-2]\n",
        "\n",
        "    for i, syllable in enumerate(sent):\n",
        "        if syllable == '_':\n",
        "            pre_syllable = syllable\n",
        "        if pre_syllable != \"_\":\n",
        "            syllable = '##' + syllable  # 중간 음절에는 모두 prefix를 붙입니다.\n",
        "            # 우리가 구성한 학습 데이터도 이렇게 구성되었기 때문이라고 함.\n",
        "            # 이순신은 조선 -> [이, ##순, ##신, ##은, 조, ##선]\n",
        "        pre_syllable = syllable\n",
        "\n",
        "        input_ids[i] = (tokenizer.convert_tokens_to_ids(syllable))\n",
        "        attention_mask[i] = 1\n",
        "    \n",
        "    input_ids = [cls_token_id] + input_ids\n",
        "    input_ids[len(sent)+1] = sep_token_id\n",
        "    attention_mask = [1] + attention_mask\n",
        "    attention_mask[len(sent)+1] = 1\n",
        "    return {\"input_ids\":input_ids,\n",
        "            \"attention_mask\":attention_mask,\n",
        "            \"token_type_ids\":token_type_ids}"
      ],
      "metadata": {
        "id": "zr2duKuR7Ok-"
      },
      "execution_count": null,
      "outputs": []
    },
    {
      "cell_type": "code",
      "source": [
        "print(train_texts[0])\n",
        "print('='*40)\n",
        "print(ner_tokenizer(train_texts[0], 5))\n",
        "# 'token_type_ids': [0, 0, 0, 0, 0] 은 segmentA로 0000으로 되어있는거."
      ],
      "metadata": {
        "colab": {
          "base_uri": "https://localhost:8080/"
        },
        "id": "lucgrvkS7m4m",
        "outputId": "d900786b-40c9-4e70-fc31-f508e84823be"
      },
      "execution_count": null,
      "outputs": [
        {
          "output_type": "stream",
          "name": "stdout",
          "text": [
            "['아', '버', '지', '가', '_', '삼', '풍', '인', '테', '리', '어', '_', '야', '구', '_', '경', '기', '_', 'V', 'I', 'P', '_', '티', '켓', '을', '_', '샀', '어', '?']\n",
            "========================================\n",
            "{'input_ids': [2, 2469, 4133, 4044, 3], 'attention_mask': [1, 1, 1, 1, 1], 'token_type_ids': [0, 0, 0, 0, 0]}\n"
          ]
        }
      ]
    },
    {
      "cell_type": "code",
      "source": [
        "tokenized_train_sentences = []\n",
        "tokenized_test_sentences = []\n",
        "\n",
        "for text in train_texts:    # 전체 데이터를 tokenizing 합니다.\n",
        "    tokenized_train_sentences.append(ner_tokenizer(text, 128))\n",
        "for text in test_texts:\n",
        "    tokenized_test_sentences.append(ner_tokenizer(text, 128))"
      ],
      "metadata": {
        "id": "JRnACxhF7umx"
      },
      "execution_count": null,
      "outputs": []
    },
    {
      "cell_type": "code",
      "source": [
        "# 우리의 label도 truncation과 tokenizing이 필요하다.\n",
        "def encode_tags(tags, max_seq_length):\n",
        "    # label 역시 입력 token과 개수를 맞춰줍니다\n",
        "    tags = tags[:max_seq_length-2]\n",
        "    labels = [tag2id[tag] for tag in tags]\n",
        "    labels = [tag2id['O']] + labels\n",
        "\n",
        "    padding_length = max_seq_length - len(labels)\n",
        "    labels = labels + ([pad_token_label_id] * padding_length)\n",
        "\n",
        "    return labels"
      ],
      "metadata": {
        "id": "WL8rcSQG7-OK"
      },
      "execution_count": null,
      "outputs": []
    },
    {
      "cell_type": "code",
      "source": [
        "encode_tags(train_tags[0], 5)"
      ],
      "metadata": {
        "colab": {
          "base_uri": "https://localhost:8080/"
        },
        "id": "z3AX-N0q7_l9",
        "outputId": "eb860aa5-c512-4786-bfdf-ac6d24a1a678"
      },
      "execution_count": null,
      "outputs": [
        {
          "output_type": "execute_result",
          "data": {
            "text/plain": [
              "[1, 1, 1, 1, 1]"
            ]
          },
          "metadata": {},
          "execution_count": 25
        }
      ]
    },
    {
      "cell_type": "code",
      "source": [
        "train_labels = []\n",
        "test_labels = []\n",
        "\n",
        "for tag in train_tags:\n",
        "    train_labels.append(encode_tags(tag, 128))\n",
        "\n",
        "for tag in test_tags:\n",
        "    test_labels.append(encode_tags(tag, 128))"
      ],
      "metadata": {
        "id": "8v4lm4JX8DBC"
      },
      "execution_count": null,
      "outputs": []
    },
    {
      "cell_type": "code",
      "source": [
        "len(train_labels), len(test_labels)"
      ],
      "metadata": {
        "colab": {
          "base_uri": "https://localhost:8080/"
        },
        "id": "vXBRrRLm8FSm",
        "outputId": "0b7bf371-0f8a-4305-9048-1f4037829c7d"
      },
      "execution_count": null,
      "outputs": [
        {
          "output_type": "execute_result",
          "data": {
            "text/plain": [
              "(24195, 6049)"
            ]
          },
          "metadata": {},
          "execution_count": 27
        }
      ]
    },
    {
      "cell_type": "code",
      "source": [
        "class TokenDataset(torch.utils.data.Dataset):\n",
        "    def __init__(self, encodings, labels):\n",
        "        self.encodings = encodings\n",
        "        self.labels = labels\n",
        "\n",
        "    def __getitem__(self, idx):\n",
        "        item = {key: torch.tensor(val) for key, val in self.encodings[idx].items()}\n",
        "        item['labels'] = torch.tensor(self.labels[idx])\n",
        "        return item\n",
        "\n",
        "    def __len__(self):\n",
        "        return len(self.labels)\n",
        "\n",
        "train_dataset = TokenDataset(tokenized_train_sentences, train_labels)\n",
        "test_dataset = TokenDataset(tokenized_test_sentences, test_labels)"
      ],
      "metadata": {
        "id": "Zcyp_5aX8HhI"
      },
      "execution_count": null,
      "outputs": []
    },
    {
      "cell_type": "code",
      "source": [
        "from transformers import BertForTokenClassification, Trainer, TrainingArguments, AutoModelForTokenClassification,EarlyStoppingCallback\n",
        "import sys\n",
        "training_args = TrainingArguments(\n",
        "    output_dir='./results',          # output directory\n",
        "    num_train_epochs=5,              # total number of training epochs\n",
        "    per_device_train_batch_size=8,  # batch size per device during training\n",
        "    per_device_eval_batch_size=64,   # batch size for evaluation\n",
        "    logging_dir='./logs',            # directory for storing logs\n",
        "    logging_steps=1000, # 1000번쨰 steps마다 log를 보여줌 \n",
        "    learning_rate=3e-5,\n",
        "    weight_decay=0.01,\n",
        "    save_total_limit=5,\n",
        "    save_strategy='steps', # steps로 해야 earlystop이 가능\n",
        "    evaluation_strategy='steps',\n",
        "    save_steps=1000, # 1000번쨰 step마다 저장\n",
        "    eval_steps=1000, # 1000번째 step마다 평가\n",
        "    seed=15,\n",
        "    load_best_model_at_end=True # 가장 좋은 성능의 모델로...\n",
        ")"
      ],
      "metadata": {
        "id": "pLTkqz438NG8"
      },
      "execution_count": null,
      "outputs": []
    },
    {
      "cell_type": "code",
      "source": [
        "model = AutoModelForTokenClassification.from_pretrained(model_name, num_labels=len(unique_tags))\n",
        "model.to(device)\n",
        "\n",
        "trainer = Trainer(\n",
        "    model=model,                         # the instantiated 🤗 Transformers model to be trained\n",
        "    args=training_args,                  # training arguments, defined above\n",
        "    train_dataset=train_dataset,         # training dataset\n",
        "    eval_dataset=test_dataset,# evaluation dataset\n",
        "    callbacks = [EarlyStoppingCallback(early_stopping_patience=2)] #loss가 2번 감소하지 않으면 스탑\n",
        ")"
      ],
      "metadata": {
        "colab": {
          "base_uri": "https://localhost:8080/",
          "height": 169,
          "referenced_widgets": [
            "2e0defef37dd44dcbd27f3a9c2fba30b",
            "47303fda8303474ea8494012026210ee",
            "ab2c50ccc42e4889a4edb77baf9583c0",
            "d6e5c7aedc624e99bb3c01f76492d046",
            "597d7f6343e44543a580df4e08aa810f",
            "65da9d704cf244e6865c406a52a3c946",
            "9c610a6f64074f5f8ce0d2f5aa20424c",
            "27b473e1618449d98c2a60730b0fd3ee",
            "8a430ee0c6014494877487f9e8edb25b",
            "24e994e7ef7a4597bf6d2e7a89391e47",
            "426b132f4d654bb79c3c22bc521cc869"
          ]
        },
        "id": "rAxManQ88Qw4",
        "outputId": "8a0a0c4e-375f-4b81-c354-ed21676d7a9c"
      },
      "execution_count": null,
      "outputs": [
        {
          "output_type": "display_data",
          "data": {
            "text/plain": [
              "Downloading pytorch_model.bin:   0%|          | 0.00/511M [00:00<?, ?B/s]"
            ],
            "application/vnd.jupyter.widget-view+json": {
              "version_major": 2,
              "version_minor": 0,
              "model_id": "2e0defef37dd44dcbd27f3a9c2fba30b"
            }
          },
          "metadata": {}
        },
        {
          "output_type": "stream",
          "name": "stderr",
          "text": [
            "Some weights of the model checkpoint at beomi/KcELECTRA-base-v2022 were not used when initializing ElectraForTokenClassification: ['discriminator_predictions.dense.bias', 'discriminator_predictions.dense_prediction.weight', 'discriminator_predictions.dense_prediction.bias', 'discriminator_predictions.dense.weight']\n",
            "- This IS expected if you are initializing ElectraForTokenClassification from the checkpoint of a model trained on another task or with another architecture (e.g. initializing a BertForSequenceClassification model from a BertForPreTraining model).\n",
            "- This IS NOT expected if you are initializing ElectraForTokenClassification from the checkpoint of a model that you expect to be exactly identical (initializing a BertForSequenceClassification model from a BertForSequenceClassification model).\n",
            "Some weights of ElectraForTokenClassification were not initialized from the model checkpoint at beomi/KcELECTRA-base-v2022 and are newly initialized: ['classifier.bias', 'classifier.weight']\n",
            "You should probably TRAIN this model on a down-stream task to be able to use it for predictions and inference.\n"
          ]
        }
      ]
    },
    {
      "cell_type": "code",
      "source": [
        "import gc\n",
        "gc.collect()\n",
        "\n",
        "trainer.train()"
      ],
      "metadata": {
        "colab": {
          "base_uri": "https://localhost:8080/",
          "height": 447
        },
        "id": "tNGzDSJ78jon",
        "outputId": "823c1387-3275-4783-eaf9-51b310e342b9"
      },
      "execution_count": null,
      "outputs": [
        {
          "output_type": "stream",
          "name": "stderr",
          "text": [
            "/usr/local/lib/python3.10/dist-packages/transformers/optimization.py:391: FutureWarning: This implementation of AdamW is deprecated and will be removed in a future version. Use the PyTorch implementation torch.optim.AdamW instead, or set `no_deprecation_warning=True` to disable this warning\n",
            "  warnings.warn(\n"
          ]
        },
        {
          "output_type": "display_data",
          "data": {
            "text/plain": [
              "<IPython.core.display.HTML object>"
            ],
            "text/html": [
              "\n",
              "    <div>\n",
              "      \n",
              "      <progress value='8000' max='15125' style='width:300px; height:20px; vertical-align: middle;'></progress>\n",
              "      [ 8000/15125 35:17 < 31:26, 3.78 it/s, Epoch 2/5]\n",
              "    </div>\n",
              "    <table border=\"1\" class=\"dataframe\">\n",
              "  <thead>\n",
              " <tr style=\"text-align: left;\">\n",
              "      <th>Step</th>\n",
              "      <th>Training Loss</th>\n",
              "      <th>Validation Loss</th>\n",
              "    </tr>\n",
              "  </thead>\n",
              "  <tbody>\n",
              "    <tr>\n",
              "      <td>1000</td>\n",
              "      <td>0.019200</td>\n",
              "      <td>0.007888</td>\n",
              "    </tr>\n",
              "    <tr>\n",
              "      <td>2000</td>\n",
              "      <td>0.008100</td>\n",
              "      <td>0.007551</td>\n",
              "    </tr>\n",
              "    <tr>\n",
              "      <td>3000</td>\n",
              "      <td>0.006200</td>\n",
              "      <td>0.005435</td>\n",
              "    </tr>\n",
              "    <tr>\n",
              "      <td>4000</td>\n",
              "      <td>0.003500</td>\n",
              "      <td>0.005361</td>\n",
              "    </tr>\n",
              "    <tr>\n",
              "      <td>5000</td>\n",
              "      <td>0.003400</td>\n",
              "      <td>0.005139</td>\n",
              "    </tr>\n",
              "    <tr>\n",
              "      <td>6000</td>\n",
              "      <td>0.003300</td>\n",
              "      <td>0.004557</td>\n",
              "    </tr>\n",
              "    <tr>\n",
              "      <td>7000</td>\n",
              "      <td>0.001700</td>\n",
              "      <td>0.005667</td>\n",
              "    </tr>\n",
              "    <tr>\n",
              "      <td>8000</td>\n",
              "      <td>0.002100</td>\n",
              "      <td>0.005500</td>\n",
              "    </tr>\n",
              "  </tbody>\n",
              "</table><p>"
            ]
          },
          "metadata": {}
        },
        {
          "output_type": "execute_result",
          "data": {
            "text/plain": [
              "TrainOutput(global_step=8000, training_loss=0.00594474145770073, metrics={'train_runtime': 2120.6217, 'train_samples_per_second': 57.047, 'train_steps_per_second': 7.132, 'total_flos': 4180132657866240.0, 'train_loss': 0.00594474145770073, 'epoch': 2.64})"
            ]
          },
          "metadata": {},
          "execution_count": 37
        }
      ]
    },
    {
      "cell_type": "code",
      "source": [
        "trainer.evaluate()"
      ],
      "metadata": {
        "colab": {
          "base_uri": "https://localhost:8080/",
          "height": 138
        },
        "id": "wNMb6V4P8nCI",
        "outputId": "7e9e65a9-d95d-4d7b-b8df-1e1d004d685a"
      },
      "execution_count": null,
      "outputs": [
        {
          "output_type": "display_data",
          "data": {
            "text/plain": [
              "<IPython.core.display.HTML object>"
            ],
            "text/html": [
              "\n",
              "    <div>\n",
              "      \n",
              "      <progress value='95' max='95' style='width:300px; height:20px; vertical-align: middle;'></progress>\n",
              "      [95/95 00:43]\n",
              "    </div>\n",
              "    "
            ]
          },
          "metadata": {}
        },
        {
          "output_type": "execute_result",
          "data": {
            "text/plain": [
              "{'eval_loss': 0.004557328298687935,\n",
              " 'eval_runtime': 43.5554,\n",
              " 'eval_samples_per_second': 138.881,\n",
              " 'eval_steps_per_second': 2.181,\n",
              " 'epoch': 2.64}"
            ]
          },
          "metadata": {},
          "execution_count": 38
        }
      ]
    },
    {
      "cell_type": "code",
      "source": [
        "predictions = trainer.predict(test_dataset)\n",
        "print(predictions.predictions.shape, predictions.label_ids.shape)"
      ],
      "metadata": {
        "colab": {
          "base_uri": "https://localhost:8080/",
          "height": 37
        },
        "id": "NuXA7FSS8nUo",
        "outputId": "5aaf772a-f563-43ee-e414-b6d4860763f1"
      },
      "execution_count": null,
      "outputs": [
        {
          "output_type": "display_data",
          "data": {
            "text/plain": [
              "<IPython.core.display.HTML object>"
            ],
            "text/html": []
          },
          "metadata": {}
        },
        {
          "output_type": "stream",
          "name": "stdout",
          "text": [
            "(6049, 128, 3) (6049, 128)\n"
          ]
        }
      ]
    },
    {
      "cell_type": "code",
      "source": [
        "preds = np.argmax(predictions.predictions, axis=-1)"
      ],
      "metadata": {
        "id": "qMfKgnYo-MNu"
      },
      "execution_count": null,
      "outputs": []
    },
    {
      "cell_type": "code",
      "source": [
        "index_to_ner = {i:j for j, i in tag2id.items()}\n",
        "f_label = [i for i, j in tag2id.items()]\n",
        "val_tags_l = [index_to_ner[x] for x in np.ravel(predictions.label_ids).astype(int).tolist()]\n",
        "y_predicted_l = [index_to_ner[x] for x in np.ravel(preds).astype(int).tolist()]"
      ],
      "metadata": {
        "id": "m3T5pcvQ_MtC"
      },
      "execution_count": null,
      "outputs": []
    },
    {
      "cell_type": "code",
      "source": [
        "#데이터셋 추가\n",
        "print(classification_report(val_tags_l, y_predicted_l, labels=f_label))"
      ],
      "metadata": {
        "colab": {
          "base_uri": "https://localhost:8080/"
        },
        "id": "cXx_dpQK_PJQ",
        "outputId": "3d7be8e6-ee04-4900-cb2b-9b41e2ef6cf9"
      },
      "execution_count": null,
      "outputs": [
        {
          "output_type": "stream",
          "name": "stdout",
          "text": [
            "              precision    recall  f1-score   support\n",
            "\n",
            "       B-ORG       0.98      0.97      0.98      6518\n",
            "           O       1.00      1.00      1.00    737289\n",
            "       I-ORG       0.98      0.99      0.99     30465\n",
            "\n",
            "    accuracy                           1.00    774272\n",
            "   macro avg       0.99      0.99      0.99    774272\n",
            "weighted avg       1.00      1.00      1.00    774272\n",
            "\n"
          ]
        }
      ]
    },
    {
      "cell_type": "code",
      "source": [
        "trainer.save_model('kcelectra_base_new')"
      ],
      "metadata": {
        "id": "Mt2Jhpu3BxYg"
      },
      "execution_count": null,
      "outputs": []
    },
    {
      "cell_type": "markdown",
      "source": [
        "## 학습 후 결과 확인"
      ],
      "metadata": {
        "id": "kbo0hzPAC3dH"
      }
    },
    {
      "cell_type": "code",
      "source": [
        "model = AutoModelForTokenClassification.from_pretrained('kcelectra_base_new', num_labels=len(unique_tags))\n",
        "model.to(device)"
      ],
      "metadata": {
        "colab": {
          "base_uri": "https://localhost:8080/"
        },
        "id": "7g7gjCl9DXis",
        "outputId": "ad821d3f-6714-404c-9cf7-f9095914ffb1"
      },
      "execution_count": null,
      "outputs": [
        {
          "output_type": "execute_result",
          "data": {
            "text/plain": [
              "ElectraForTokenClassification(\n",
              "  (electra): ElectraModel(\n",
              "    (embeddings): ElectraEmbeddings(\n",
              "      (word_embeddings): Embedding(54343, 768, padding_idx=0)\n",
              "      (position_embeddings): Embedding(512, 768)\n",
              "      (token_type_embeddings): Embedding(2, 768)\n",
              "      (LayerNorm): LayerNorm((768,), eps=1e-12, elementwise_affine=True)\n",
              "      (dropout): Dropout(p=0.1, inplace=False)\n",
              "    )\n",
              "    (encoder): ElectraEncoder(\n",
              "      (layer): ModuleList(\n",
              "        (0-11): 12 x ElectraLayer(\n",
              "          (attention): ElectraAttention(\n",
              "            (self): ElectraSelfAttention(\n",
              "              (query): Linear(in_features=768, out_features=768, bias=True)\n",
              "              (key): Linear(in_features=768, out_features=768, bias=True)\n",
              "              (value): Linear(in_features=768, out_features=768, bias=True)\n",
              "              (dropout): Dropout(p=0.1, inplace=False)\n",
              "            )\n",
              "            (output): ElectraSelfOutput(\n",
              "              (dense): Linear(in_features=768, out_features=768, bias=True)\n",
              "              (LayerNorm): LayerNorm((768,), eps=1e-12, elementwise_affine=True)\n",
              "              (dropout): Dropout(p=0.1, inplace=False)\n",
              "            )\n",
              "          )\n",
              "          (intermediate): ElectraIntermediate(\n",
              "            (dense): Linear(in_features=768, out_features=3072, bias=True)\n",
              "            (intermediate_act_fn): GELUActivation()\n",
              "          )\n",
              "          (output): ElectraOutput(\n",
              "            (dense): Linear(in_features=3072, out_features=768, bias=True)\n",
              "            (LayerNorm): LayerNorm((768,), eps=1e-12, elementwise_affine=True)\n",
              "            (dropout): Dropout(p=0.1, inplace=False)\n",
              "          )\n",
              "        )\n",
              "      )\n",
              "    )\n",
              "  )\n",
              "  (dropout): Dropout(p=0.1, inplace=False)\n",
              "  (classifier): Linear(in_features=768, out_features=3, bias=True)\n",
              ")"
            ]
          },
          "metadata": {},
          "execution_count": 46
        }
      ]
    },
    {
      "cell_type": "code",
      "source": [
        "def ner_inference(text) : \n",
        "  \n",
        "    model.eval()\n",
        "    text = text.replace(' ', '_')\n",
        "\n",
        "    predictions , true_labels = [], []\n",
        "    \n",
        "    tokenized_sent = ner_tokenizer(text, len(text)+2)\n",
        "    input_ids = torch.tensor(tokenized_sent['input_ids']).unsqueeze(0).to(device)\n",
        "    attention_mask = torch.tensor(tokenized_sent['attention_mask']).unsqueeze(0).to(device)\n",
        "    token_type_ids = torch.tensor(tokenized_sent['token_type_ids']).unsqueeze(0).to(device)    \n",
        "    \n",
        "    with torch.no_grad():\n",
        "        outputs = model(\n",
        "            input_ids=input_ids,\n",
        "            attention_mask=attention_mask,\n",
        "            token_type_ids=token_type_ids)\n",
        "        \n",
        "    logits = outputs['logits']\n",
        "    logits = logits.detach().cpu().numpy()\n",
        "    label_ids = token_type_ids.cpu().numpy()\n",
        "\n",
        "    predictions.extend([list(p) for p in np.argmax(logits, axis=2)])\n",
        "    true_labels.append(label_ids)\n",
        "\n",
        "    pred_tags = [list(tag2id.keys())[p_i] for p in predictions for p_i in p]\n",
        "\n",
        "    print('{}\\t{}'.format(\"TOKEN\", \"TAG\"))\n",
        "    print(\"===========\")\n",
        "    # for token, tag in zip(tokenizer.decode(tokenized_sent['input_ids']), pred_tags):\n",
        "    #   print(\"{:^5}\\t{:^5}\".format(token, tag))\n",
        "    for i, tag in enumerate(pred_tags):\n",
        "        print(\"{:^5}\\t{:^5}\".format(tokenizer.convert_ids_to_tokens(tokenized_sent['input_ids'][i]), tag))"
      ],
      "metadata": {
        "id": "zIKC3nuODP4S"
      },
      "execution_count": null,
      "outputs": []
    },
    {
      "cell_type": "code",
      "source": [
        "text = '팝가가 미리 알려주는 업커밍 팝업스토어 포켓몬 스프링 페스타 in 롯데월드몰 2023 04.28(금)-05.08(월) 송파구 올림픽로 300, 롯데월드몰 & 월드파크 매일: 10:30~22:00 포켓몬과 함께 모험을 떠날 어린&어른이들 다 모여라-** ** 봄맞이 포켓몬 팝업스토어 가 잠실 롯데월드몰 곳곳에서 진행될 예정이야! 포켓몬 캐릭터 봉제 인형, 스티커, 필기구 등 귀여운 굿즈와 대형 포토존을 포함한 다채로운 체험 거리를 한자리에서 만나볼 수 있대! 포켓몬 애니메이션 & 극장판 컨셉의 대규모 포토존 (롯데월드몰 야외광장) 국내 최초 포켓몬 카드 갤러리 (롯데월드몰 5층 아이코닉 브릿지) 포켓몬 스칼렛 & 바이올렛 배틀 체험 이벤트 (롯데월드몰 4층 키즈플로어) 포켓몬 팝업스토어는 현장 방문 예약제로 운영되니 참고해 이번 주, 금요일 포켓몬 팝업스토어로 달려가 보자구 왼쪽 하단을 눌러 팝업스토어 알림 신청하고 놓치지 말자!'\n",
        "\n",
        "ner_inference(text)"
      ],
      "metadata": {
        "colab": {
          "base_uri": "https://localhost:8080/"
        },
        "id": "0LDybMoqC7jW",
        "outputId": "8dd2c144-ff23-47c8-dc02-9b77760ace63"
      },
      "execution_count": null,
      "outputs": [
        {
          "output_type": "stream",
          "name": "stdout",
          "text": [
            "TOKEN\tTAG\n",
            "===========\n",
            "[CLS]\t  O  \n",
            "  팝  \t  O  \n",
            " ##가 \t  O  \n",
            " ##가 \t  O  \n",
            "  _  \t  O  \n",
            "  미  \t  O  \n",
            " ##리 \t  O  \n",
            "  _  \t  O  \n",
            "  알  \t  O  \n",
            " ##려 \t  O  \n",
            " ##주 \t  O  \n",
            " ##는 \t  O  \n",
            "  _  \t  O  \n",
            "  업  \t  O  \n",
            " ##커 \t  O  \n",
            " ##밍 \t  O  \n",
            "  _  \t  O  \n",
            "  팝  \t  O  \n",
            " ##업 \t  O  \n",
            " ##스 \t  O  \n",
            " ##토 \t  O  \n",
            " ##어 \t  O  \n",
            "  _  \t  O  \n",
            "  포  \t  O  \n",
            " ##켓 \t  O  \n",
            " ##몬 \t  O  \n",
            "  _  \t  O  \n",
            "  스  \t  O  \n",
            " ##프 \t  O  \n",
            " ##링 \t  O  \n",
            "  _  \t  O  \n",
            "  페  \t  O  \n",
            " ##스 \t  O  \n",
            " ##타 \t  O  \n",
            "  _  \t  O  \n",
            "  i  \t  O  \n",
            " ##n \t  O  \n",
            "  _  \t  O  \n",
            "  롯  \t  O  \n",
            " ##데 \t  O  \n",
            " ##월 \t  O  \n",
            " ##드 \t  O  \n",
            " ##몰 \t  O  \n",
            "  _  \t  O  \n",
            "  2  \t  O  \n",
            " ##0 \t  O  \n",
            " ##2 \t  O  \n",
            " ##3 \t  O  \n",
            "  _  \t  O  \n",
            "  0  \t  O  \n",
            " ##4 \t  O  \n",
            "[UNK]\t  O  \n",
            " ##2 \t  O  \n",
            " ##8 \t  O  \n",
            "[UNK]\t  O  \n",
            " ##금 \t  O  \n",
            "[UNK]\t  O  \n",
            "[UNK]\t  O  \n",
            " ##0 \t  O  \n",
            " ##5 \t  O  \n",
            "[UNK]\t  O  \n",
            " ##0 \t  O  \n",
            " ##8 \t  O  \n",
            "[UNK]\t  O  \n",
            " ##월 \t  O  \n",
            "[UNK]\t  O  \n",
            "  _  \t  O  \n",
            "  송  \t  O  \n",
            " ##파 \t  O  \n",
            " ##구 \tI-ORG\n",
            "  _  \t  O  \n",
            "  올  \t  O  \n",
            " ##림 \t  O  \n",
            " ##픽 \t  O  \n",
            " ##로 \t  O  \n",
            "  _  \t  O  \n",
            "  3  \t  O  \n",
            " ##0 \t  O  \n",
            " ##0 \t  O  \n",
            "[UNK]\t  O  \n",
            "  _  \t  O  \n",
            "  롯  \t  O  \n",
            " ##데 \t  O  \n",
            " ##월 \t  O  \n",
            " ##드 \t  O  \n",
            " ##몰 \t  O  \n",
            "  _  \t  O  \n",
            "  &  \t  O  \n",
            "  _  \t  O  \n",
            "  월  \t  O  \n",
            " ##드 \t  O  \n",
            " ##파 \t  O  \n",
            " ##크 \t  O  \n",
            "  _  \t  O  \n",
            "  매  \t  O  \n",
            " ##일 \t  O  \n",
            "[UNK]\t  O  \n",
            "  _  \t  O  \n",
            "  1  \t  O  \n",
            " ##0 \t  O  \n",
            "[UNK]\t  O  \n",
            " ##3 \t  O  \n",
            " ##0 \t  O  \n",
            "[UNK]\t  O  \n",
            " ##2 \t  O  \n",
            " ##2 \t  O  \n",
            "[UNK]\t  O  \n",
            " ##0 \t  O  \n",
            " ##0 \t  O  \n",
            "  _  \t  O  \n",
            "  포  \t  O  \n",
            " ##켓 \t  O  \n",
            " ##몬 \t  O  \n",
            " ##과 \t  O  \n",
            "  _  \t  O  \n",
            "  함  \t  O  \n",
            " ##께 \t  O  \n",
            "  _  \t  O  \n",
            "  모  \t  O  \n",
            " ##험 \t  O  \n",
            " ##을 \t  O  \n",
            "  _  \t  O  \n",
            "  떠  \t  O  \n",
            " ##날 \t  O  \n",
            "  _  \t  O  \n",
            "  어  \t  O  \n",
            " ##린 \t  O  \n",
            "[UNK]\t  O  \n",
            " ##어 \t  O  \n",
            " ##른 \t  O  \n",
            " ##이 \t  O  \n",
            " ##들 \t  O  \n",
            "  _  \t  O  \n",
            "  다  \t  O  \n",
            "  _  \t  O  \n",
            "  모  \t  O  \n",
            " ##여 \t  O  \n",
            " ##라 \t  O  \n",
            "[UNK]\t  O  \n",
            "[UNK]\t  O  \n",
            "[UNK]\t  O  \n",
            "  _  \t  O  \n",
            "  *  \t  O  \n",
            "[UNK]\t  O  \n",
            "  _  \t  O  \n",
            "  봄  \tB-ORG\n",
            " ##맞 \tI-ORG\n",
            " ##이 \tI-ORG\n",
            "  _  \t  O  \n",
            "  포  \t  O  \n",
            " ##켓 \t  O  \n",
            " ##몬 \t  O  \n",
            "  _  \t  O  \n",
            "  팝  \t  O  \n",
            " ##업 \t  O  \n",
            " ##스 \t  O  \n",
            " ##토 \t  O  \n",
            " ##어 \t  O  \n",
            "  _  \t  O  \n",
            "  가  \t  O  \n",
            "  _  \t  O  \n",
            "  잠  \t  O  \n",
            " ##실 \t  O  \n",
            "  _  \t  O  \n",
            "  롯  \t  O  \n",
            " ##데 \t  O  \n",
            " ##월 \t  O  \n",
            " ##드 \t  O  \n",
            " ##몰 \t  O  \n",
            "  _  \t  O  \n",
            "  곳  \t  O  \n",
            " ##곳 \t  O  \n",
            " ##에 \t  O  \n",
            " ##서 \t  O  \n",
            "  _  \t  O  \n",
            "  진  \t  O  \n",
            " ##행 \t  O  \n",
            " ##될 \t  O  \n",
            "  _  \t  O  \n",
            "  예  \t  O  \n",
            " ##정 \t  O  \n",
            " ##이 \t  O  \n",
            " ##야 \t  O  \n",
            "[UNK]\t  O  \n",
            "  _  \t  O  \n",
            "  포  \t  O  \n",
            " ##켓 \t  O  \n",
            " ##몬 \t  O  \n",
            "  _  \t  O  \n",
            "  캐  \t  O  \n",
            " ##릭 \t  O  \n",
            " ##터 \t  O  \n",
            "  _  \t  O  \n",
            "  봉  \t  O  \n",
            " ##제 \t  O  \n",
            "  _  \t  O  \n",
            "  인  \t  O  \n",
            " ##형 \t  O  \n",
            "[UNK]\t  O  \n",
            "  _  \t  O  \n",
            "  스  \t  O  \n",
            " ##티 \t  O  \n",
            " ##커 \t  O  \n",
            "[UNK]\t  O  \n",
            "  _  \t  O  \n",
            "  필  \t  O  \n",
            " ##기 \t  O  \n",
            " ##구 \t  O  \n",
            "  _  \t  O  \n",
            "  등  \t  O  \n",
            "  _  \t  O  \n",
            "  귀  \t  O  \n",
            " ##여 \t  O  \n",
            " ##운 \t  O  \n",
            "  _  \t  O  \n",
            "  굿  \t  O  \n",
            " ##즈 \t  O  \n",
            " ##와 \t  O  \n",
            "  _  \t  O  \n",
            "  대  \t  O  \n",
            " ##형 \t  O  \n",
            "  _  \t  O  \n",
            "  포  \t  O  \n",
            " ##토 \t  O  \n",
            " ##존 \t  O  \n",
            " ##을 \t  O  \n",
            "  _  \t  O  \n",
            "  포  \t  O  \n",
            " ##함 \t  O  \n",
            " ##한 \t  O  \n",
            "  _  \t  O  \n",
            "  다  \t  O  \n",
            " ##채 \t  O  \n",
            " ##로 \t  O  \n",
            " ##운 \t  O  \n",
            "  _  \t  O  \n",
            "  체  \t  O  \n",
            " ##험 \t  O  \n",
            "  _  \t  O  \n",
            "  거  \t  O  \n",
            " ##리 \t  O  \n",
            " ##를 \t  O  \n",
            "  _  \t  O  \n",
            "  한  \t  O  \n",
            " ##자 \t  O  \n",
            " ##리 \t  O  \n",
            " ##에 \t  O  \n",
            " ##서 \t  O  \n",
            "  _  \t  O  \n",
            "  만  \t  O  \n",
            " ##나 \t  O  \n",
            " ##볼 \t  O  \n",
            "  _  \t  O  \n",
            "  수  \t  O  \n",
            "  _  \t  O  \n",
            "  있  \t  O  \n",
            " ##대 \t  O  \n",
            "[UNK]\t  O  \n",
            "  _  \t  O  \n",
            "  포  \t  O  \n",
            " ##켓 \t  O  \n",
            " ##몬 \t  O  \n",
            "  _  \t  O  \n",
            "  애  \t  O  \n",
            " ##니 \t  O  \n",
            " ##메 \t  O  \n",
            " ##이 \t  O  \n",
            " ##션 \t  O  \n",
            "  _  \t  O  \n",
            "  &  \t  O  \n",
            "  _  \t  O  \n",
            "  극  \t  O  \n",
            " ##장 \t  O  \n",
            " ##판 \t  O  \n",
            "  _  \t  O  \n",
            "  컨  \t  O  \n",
            " ##셉 \t  O  \n",
            " ##의 \t  O  \n",
            "  _  \t  O  \n",
            "  대  \t  O  \n",
            " ##규 \t  O  \n",
            " ##모 \t  O  \n",
            "  _  \t  O  \n",
            "  포  \t  O  \n",
            " ##토 \t  O  \n",
            " ##존 \t  O  \n",
            "  _  \t  O  \n",
            "  (  \t  O  \n",
            " ##롯 \t  O  \n",
            " ##데 \t  O  \n",
            " ##월 \t  O  \n",
            " ##드 \t  O  \n",
            " ##몰 \t  O  \n",
            "  _  \t  O  \n",
            "  야  \t  O  \n",
            " ##외 \t  O  \n",
            " ##광 \t  O  \n",
            " ##장 \t  O  \n",
            "[UNK]\t  O  \n",
            "  _  \t  O  \n",
            "  국  \t  O  \n",
            " ##내 \t  O  \n",
            "  _  \t  O  \n",
            "  최  \t  O  \n",
            " ##초 \t  O  \n",
            "  _  \t  O  \n",
            "  포  \t  O  \n",
            " ##켓 \t  O  \n",
            " ##몬 \t  O  \n",
            "  _  \t  O  \n",
            "  카  \t  O  \n",
            " ##드 \t  O  \n",
            "  _  \t  O  \n",
            "  갤  \t  O  \n",
            " ##러 \t  O  \n",
            " ##리 \t  O  \n",
            "  _  \t  O  \n",
            "  (  \t  O  \n",
            " ##롯 \t  O  \n",
            " ##데 \t  O  \n",
            " ##월 \t  O  \n",
            " ##드 \t  O  \n",
            " ##몰 \t  O  \n",
            "  _  \t  O  \n",
            "  5  \t  O  \n",
            " ##층 \t  O  \n",
            "  _  \t  O  \n",
            "  아  \t  O  \n",
            " ##이 \t  O  \n",
            " ##코 \t  O  \n",
            " ##닉 \t  O  \n",
            "  _  \t  O  \n",
            "  브  \t  O  \n",
            " ##릿 \t  O  \n",
            " ##지 \t  O  \n",
            "[UNK]\t  O  \n",
            "  _  \t  O  \n",
            "  포  \t  O  \n",
            " ##켓 \t  O  \n",
            " ##몬 \t  O  \n",
            "  _  \t  O  \n",
            "  스  \t  O  \n",
            " ##칼 \t  O  \n",
            " ##렛 \t  O  \n",
            "  _  \t  O  \n",
            "  &  \t  O  \n",
            "  _  \t  O  \n",
            "  바  \t  O  \n",
            " ##이 \t  O  \n",
            " ##올 \t  O  \n",
            " ##렛 \t  O  \n",
            "  _  \t  O  \n",
            "  배  \t  O  \n",
            " ##틀 \t  O  \n",
            "  _  \t  O  \n",
            "  체  \t  O  \n",
            " ##험 \t  O  \n",
            "  _  \t  O  \n",
            "  이  \t  O  \n",
            " ##벤 \t  O  \n",
            " ##트 \t  O  \n",
            "  _  \t  O  \n",
            "  (  \t  O  \n",
            " ##롯 \tB-ORG\n",
            " ##데 \tI-ORG\n",
            " ##월 \tI-ORG\n",
            " ##드 \tI-ORG\n",
            " ##몰 \tI-ORG\n",
            "  _  \t  O  \n",
            "  4  \t  O  \n",
            " ##층 \t  O  \n",
            "  _  \t  O  \n",
            "  키  \tB-ORG\n",
            " ##즈 \tI-ORG\n",
            " ##플 \tI-ORG\n",
            " ##로 \tI-ORG\n",
            " ##어 \tI-ORG\n",
            "[UNK]\t  O  \n",
            "  _  \t  O  \n",
            "  포  \t  O  \n",
            " ##켓 \t  O  \n",
            " ##몬 \t  O  \n",
            "  _  \t  O  \n",
            "  팝  \t  O  \n",
            " ##업 \t  O  \n",
            " ##스 \t  O  \n",
            " ##토 \t  O  \n",
            " ##어 \t  O  \n",
            " ##는 \t  O  \n",
            "  _  \t  O  \n",
            "  현  \t  O  \n",
            " ##장 \t  O  \n",
            "  _  \t  O  \n",
            "  방  \t  O  \n",
            " ##문 \t  O  \n",
            "  _  \t  O  \n",
            "  예  \t  O  \n",
            " ##약 \t  O  \n",
            " ##제 \t  O  \n",
            " ##로 \t  O  \n",
            "  _  \t  O  \n",
            "  운  \t  O  \n",
            " ##영 \t  O  \n",
            " ##되 \t  O  \n",
            " ##니 \t  O  \n",
            "  _  \t  O  \n",
            "  참  \t  O  \n",
            " ##고 \t  O  \n",
            " ##해 \t  O  \n",
            "  _  \t  O  \n",
            "  이  \t  O  \n",
            " ##번 \t  O  \n",
            "  _  \t  O  \n",
            "  주  \t  O  \n",
            "[UNK]\t  O  \n",
            "  _  \t  O  \n",
            "  금  \t  O  \n",
            " ##요 \t  O  \n",
            " ##일 \t  O  \n",
            "  _  \t  O  \n",
            "  포  \t  O  \n",
            " ##켓 \t  O  \n",
            " ##몬 \t  O  \n",
            "  _  \t  O  \n",
            "  팝  \t  O  \n",
            " ##업 \t  O  \n",
            " ##스 \t  O  \n",
            " ##토 \t  O  \n",
            " ##어 \t  O  \n",
            " ##로 \t  O  \n",
            "  _  \t  O  \n",
            "  달  \t  O  \n",
            " ##려 \t  O  \n",
            " ##가 \t  O  \n",
            "  _  \t  O  \n",
            "  보  \t  O  \n",
            " ##자 \t  O  \n",
            " ##구 \t  O  \n",
            "  _  \t  O  \n",
            "  왼  \t  O  \n",
            " ##쪽 \t  O  \n",
            "  _  \t  O  \n",
            "  하  \t  O  \n",
            " ##단 \t  O  \n",
            " ##을 \t  O  \n",
            "  _  \t  O  \n",
            "  눌  \t  O  \n",
            " ##러 \t  O  \n",
            "  _  \t  O  \n",
            "  팝  \t  O  \n",
            " ##업 \t  O  \n",
            " ##스 \t  O  \n",
            " ##토 \t  O  \n",
            " ##어 \t  O  \n",
            "  _  \t  O  \n",
            "  알  \t  O  \n",
            " ##림 \t  O  \n",
            "  _  \t  O  \n",
            "  신  \t  O  \n",
            " ##청 \t  O  \n",
            " ##하 \t  O  \n",
            " ##고 \t  O  \n",
            "  _  \t  O  \n",
            "  놓  \t  O  \n",
            " ##치 \t  O  \n",
            " ##지 \t  O  \n",
            "  _  \t  O  \n",
            "  말  \t  O  \n",
            " ##자 \t  O  \n",
            "[UNK]\t  O  \n",
            "[SEP]\t  O  \n"
          ]
        }
      ]
    },
    {
      "cell_type": "markdown",
      "source": [
        "# 대 실 패 !"
      ],
      "metadata": {
        "id": "HV9pSGebZCnE"
      }
    },
    {
      "cell_type": "code",
      "source": [],
      "metadata": {
        "id": "GjjEu80nZDyr"
      },
      "execution_count": null,
      "outputs": []
    }
  ]
}